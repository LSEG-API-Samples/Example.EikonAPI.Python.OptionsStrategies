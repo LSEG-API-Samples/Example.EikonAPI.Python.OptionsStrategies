{
 "cells": [
  {
   "cell_type": "markdown",
   "metadata": {},
   "source": [
    "# Options Strategy notebook\n",
    "- First step is to load all the libraries needed to properly run this notebook."
   ]
  },
  {
   "cell_type": "code",
   "execution_count": null,
   "metadata": {},
   "outputs": [],
   "source": [
    "import pandas as pd\n",
    "import numpy as np\n",
    "import eikon as ek\n",
    "import json \n",
    "from business_duration import businessDuration\n",
    "import scipy.interpolate\n",
    "\n",
    "import seaborn as sns\n",
    "\n",
    "import chart_studio as cf\n",
    "\n",
    "from _plotly_future_ import v4_subplots\n",
    "from plotly.subplots import make_subplots\n",
    "\n",
    "import Func\n",
    "\n",
    "# import plotly.graph_objects as go\n",
    "import plotly.graph_objs as go\n",
    "import plotly.figure_factory as ff\n",
    "from plotly.offline import plot\n",
    "import ipywidgets\n",
    "import plotly.offline\n",
    "# plotly.offline.init_notebook_mode(connected=True)\n",
    "\n",
    "from IPython.display import display, HTML\n",
    "from IPython.display import display_html \n",
    "from IPython.core.interactiveshell import InteractiveShell\n",
    "InteractiveShell.ast_node_interactivity = \"all\"\n",
    "\n",
    "import warnings\n",
    "warnings.simplefilter(\"ignore\")\n",
    "\n"
   ]
  },
  {
   "cell_type": "markdown",
   "metadata": {},
   "source": [
    "- Set up your key value according to the key generated at the App Key generator App on Eikon"
   ]
  },
  {
   "cell_type": "code",
   "execution_count": 2,
   "metadata": {},
   "outputs": [],
   "source": [
    "value='603a61c8427642b3816e14e3dea83f1ca4dc7f7c'\n",
    "\n",
    "ek.set_app_key(value)\n",
    "ek.set_timeout(60*20)"
   ]
  },
  {
   "cell_type": "markdown",
   "metadata": {},
   "source": [
    "### Choose the underlying asset (chain):\n",
    "- From the chain it will bring a list of all tradable options and then you get the fields needed for the calculations."
   ]
  },
  {
   "cell_type": "code",
   "execution_count": 3,
   "metadata": {},
   "outputs": [],
   "source": [
    "chain='0#PETR4*.SA'\n",
    "# chain=\"0#TSLA*.U\"\n",
    "OptionsList, err = ek.get_data(chain,'RData')\n",
    "OptionsList=OptionsList.Instrument[~OptionsList.Instrument.isnull()].values"
   ]
  },
  {
   "cell_type": "code",
   "execution_count": 4,
   "metadata": {},
   "outputs": [
    {
     "data": {
      "text/plain": [
       "1203"
      ]
     },
     "execution_count": 4,
     "metadata": {},
     "output_type": "execute_result"
    }
   ],
   "source": [
    "len(OptionsList)"
   ]
  },
  {
   "cell_type": "code",
   "execution_count": 5,
   "metadata": {},
   "outputs": [
    {
     "data": {
      "text/html": [
       "<div>\n",
       "<style scoped>\n",
       "    .dataframe tbody tr th:only-of-type {\n",
       "        vertical-align: middle;\n",
       "    }\n",
       "\n",
       "    .dataframe tbody tr th {\n",
       "        vertical-align: top;\n",
       "    }\n",
       "\n",
       "    .dataframe thead th {\n",
       "        text-align: right;\n",
       "    }\n",
       "</style>\n",
       "<table border=\"1\" class=\"dataframe\">\n",
       "  <thead>\n",
       "    <tr style=\"text-align: right;\">\n",
       "      <th></th>\n",
       "      <th>Instrument</th>\n",
       "      <th>TRADE_DATE</th>\n",
       "      <th>TRDPRC_1</th>\n",
       "      <th>PUTCALLIND</th>\n",
       "      <th>EXPIR_DATE</th>\n",
       "      <th>STRIKE_PRC</th>\n",
       "      <th>VOL_X_PRC1</th>\n",
       "      <th>STOCK_RIC</th>\n",
       "    </tr>\n",
       "  </thead>\n",
       "  <tbody>\n",
       "    <tr>\n",
       "      <th>1</th>\n",
       "      <td>PETR4R480.SA</td>\n",
       "      <td>2020-05-21</td>\n",
       "      <td>0.01</td>\n",
       "      <td>PUT</td>\n",
       "      <td>2020-06-15</td>\n",
       "      <td>4.8</td>\n",
       "      <td>20.0</td>\n",
       "      <td>PETR4.SA</td>\n",
       "    </tr>\n",
       "    <tr>\n",
       "      <th>2</th>\n",
       "      <td>PETR4F480.SA</td>\n",
       "      <td>None</td>\n",
       "      <td>NaN</td>\n",
       "      <td>CALL</td>\n",
       "      <td>2020-06-15</td>\n",
       "      <td>4.8</td>\n",
       "      <td>NaN</td>\n",
       "      <td>PETR4.SA</td>\n",
       "    </tr>\n",
       "    <tr>\n",
       "      <th>3</th>\n",
       "      <td>PETR4R580.SA</td>\n",
       "      <td>2020-05-19</td>\n",
       "      <td>NaN</td>\n",
       "      <td>PUT</td>\n",
       "      <td>2020-06-15</td>\n",
       "      <td>5.8</td>\n",
       "      <td>NaN</td>\n",
       "      <td>PETR4.SA</td>\n",
       "    </tr>\n",
       "    <tr>\n",
       "      <th>4</th>\n",
       "      <td>PETR4F580.SA</td>\n",
       "      <td>None</td>\n",
       "      <td>NaN</td>\n",
       "      <td>CALL</td>\n",
       "      <td>2020-06-15</td>\n",
       "      <td>5.8</td>\n",
       "      <td>NaN</td>\n",
       "      <td>PETR4.SA</td>\n",
       "    </tr>\n",
       "    <tr>\n",
       "      <th>5</th>\n",
       "      <td>PETR4R620.SA</td>\n",
       "      <td>2020-05-21</td>\n",
       "      <td>0.01</td>\n",
       "      <td>PUT</td>\n",
       "      <td>2020-06-15</td>\n",
       "      <td>6.2</td>\n",
       "      <td>77.0</td>\n",
       "      <td>PETR4.SA</td>\n",
       "    </tr>\n",
       "  </tbody>\n",
       "</table>\n",
       "</div>"
      ],
      "text/plain": [
       "     Instrument  TRADE_DATE  TRDPRC_1 PUTCALLIND  EXPIR_DATE  STRIKE_PRC  \\\n",
       "1  PETR4R480.SA  2020-05-21      0.01       PUT   2020-06-15         4.8   \n",
       "2  PETR4F480.SA        None       NaN       CALL  2020-06-15         4.8   \n",
       "3  PETR4R580.SA  2020-05-19       NaN       PUT   2020-06-15         5.8   \n",
       "4  PETR4F580.SA        None       NaN       CALL  2020-06-15         5.8   \n",
       "5  PETR4R620.SA  2020-05-21      0.01       PUT   2020-06-15         6.2   \n",
       "\n",
       "   VOL_X_PRC1 STOCK_RIC  \n",
       "1        20.0  PETR4.SA  \n",
       "2         NaN  PETR4.SA  \n",
       "3         NaN  PETR4.SA  \n",
       "4         NaN  PETR4.SA  \n",
       "5        77.0  PETR4.SA  "
      ]
     },
     "execution_count": 5,
     "metadata": {},
     "output_type": "execute_result"
    }
   ],
   "source": [
    "# optionsInfo, err = ek.get_data(list(OptionsList),['TRADE_DATE','TRDPRC_1',\"PUTCALLIND\",\"EXPIR_DATE\",\"STRIKE_PRC\",\"VOL_X_PRC1\",\"STOCK_RIC\"])\n",
    "optionsInfo, err = ek.get_data(chain,['TRADE_DATE','TRDPRC_1',\"PUTCALLIND\",\"EXPIR_DATE\",\"STRIKE_PRC\",\"VOL_X_PRC1\",\"STOCK_RIC\"])\n",
    "optionsInfo=optionsInfo[optionsInfo.STRIKE_PRC.notnull()]\n",
    "optionsInfo=optionsInfo[optionsInfo.EXPIR_DATE.astype('datetime64')>optionsInfo.TRADE_DATE.astype('datetime64').max()]\n",
    "optionsInfo['VOL_X_PRC1']=optionsInfo['VOL_X_PRC1']*1000\n",
    "(optionsInfo.head())\n"
   ]
  },
  {
   "cell_type": "markdown",
   "metadata": {},
   "source": [
    "### Colect market data\n",
    "- spot price for underlying asset and risk-free interest rate"
   ]
  },
  {
   "cell_type": "code",
   "execution_count": 6,
   "metadata": {},
   "outputs": [],
   "source": [
    "spot, err = ek.get_data([optionsInfo.STOCK_RIC.values[0]]+['BRSELICD=CBBR'],['TRADE_DATE','TRDPRC_1'])\n",
    "# spot, err = ek.get_data([optionsInfo.STOCK_RIC.values[0]]+['USDONFSR=X'],['TRADE_DATE','TRDPRC_1'])"
   ]
  },
  {
   "cell_type": "code",
   "execution_count": 7,
   "metadata": {},
   "outputs": [
    {
     "data": {
      "text/html": [
       "<div>\n",
       "<style scoped>\n",
       "    .dataframe tbody tr th:only-of-type {\n",
       "        vertical-align: middle;\n",
       "    }\n",
       "\n",
       "    .dataframe tbody tr th {\n",
       "        vertical-align: top;\n",
       "    }\n",
       "\n",
       "    .dataframe thead th {\n",
       "        text-align: right;\n",
       "    }\n",
       "</style>\n",
       "<table border=\"1\" class=\"dataframe\">\n",
       "  <thead>\n",
       "    <tr style=\"text-align: right;\">\n",
       "      <th></th>\n",
       "      <th>Instrument</th>\n",
       "      <th>TRADE_DATE</th>\n",
       "      <th>TRDPRC_1</th>\n",
       "      <th>PUTCALLIND</th>\n",
       "      <th>EXPIR_DATE</th>\n",
       "      <th>STRIKE_PRC</th>\n",
       "      <th>VOL_X_PRC1</th>\n",
       "      <th>STOCK_RIC</th>\n",
       "      <th>Delta</th>\n",
       "    </tr>\n",
       "  </thead>\n",
       "  <tbody>\n",
       "    <tr>\n",
       "      <th>2</th>\n",
       "      <td>PETR4F480.SA</td>\n",
       "      <td>None</td>\n",
       "      <td>NaN</td>\n",
       "      <td>CALL</td>\n",
       "      <td>2020-06-15</td>\n",
       "      <td>4.8</td>\n",
       "      <td>NaN</td>\n",
       "      <td>PETR4.SA</td>\n",
       "      <td>-0.749609</td>\n",
       "    </tr>\n",
       "    <tr>\n",
       "      <th>4</th>\n",
       "      <td>PETR4F580.SA</td>\n",
       "      <td>None</td>\n",
       "      <td>NaN</td>\n",
       "      <td>CALL</td>\n",
       "      <td>2020-06-15</td>\n",
       "      <td>5.8</td>\n",
       "      <td>NaN</td>\n",
       "      <td>PETR4.SA</td>\n",
       "      <td>-0.697444</td>\n",
       "    </tr>\n",
       "    <tr>\n",
       "      <th>6</th>\n",
       "      <td>PETR4F620.SA</td>\n",
       "      <td>2020-05-12</td>\n",
       "      <td>NaN</td>\n",
       "      <td>CALL</td>\n",
       "      <td>2020-06-15</td>\n",
       "      <td>6.2</td>\n",
       "      <td>NaN</td>\n",
       "      <td>PETR4.SA</td>\n",
       "      <td>-0.676578</td>\n",
       "    </tr>\n",
       "    <tr>\n",
       "      <th>8</th>\n",
       "      <td>PETR4F380.SA</td>\n",
       "      <td>2020-05-18</td>\n",
       "      <td>NaN</td>\n",
       "      <td>CALL</td>\n",
       "      <td>2020-06-15</td>\n",
       "      <td>6.8</td>\n",
       "      <td>NaN</td>\n",
       "      <td>PETR4.SA</td>\n",
       "      <td>-0.645279</td>\n",
       "    </tr>\n",
       "    <tr>\n",
       "      <th>9</th>\n",
       "      <td>PETR4F740.SA</td>\n",
       "      <td>2020-05-08</td>\n",
       "      <td>NaN</td>\n",
       "      <td>CALL</td>\n",
       "      <td>2020-06-15</td>\n",
       "      <td>7.4</td>\n",
       "      <td>NaN</td>\n",
       "      <td>PETR4.SA</td>\n",
       "      <td>-0.613980</td>\n",
       "    </tr>\n",
       "  </tbody>\n",
       "</table>\n",
       "</div>"
      ],
      "text/plain": [
       "     Instrument  TRADE_DATE  TRDPRC_1 PUTCALLIND  EXPIR_DATE  STRIKE_PRC  \\\n",
       "2  PETR4F480.SA        None       NaN       CALL  2020-06-15         4.8   \n",
       "4  PETR4F580.SA        None       NaN       CALL  2020-06-15         5.8   \n",
       "6  PETR4F620.SA  2020-05-12       NaN       CALL  2020-06-15         6.2   \n",
       "8  PETR4F380.SA  2020-05-18       NaN       CALL  2020-06-15         6.8   \n",
       "9  PETR4F740.SA  2020-05-08       NaN       CALL  2020-06-15         7.4   \n",
       "\n",
       "   VOL_X_PRC1 STOCK_RIC     Delta  \n",
       "2         NaN  PETR4.SA -0.749609  \n",
       "4         NaN  PETR4.SA -0.697444  \n",
       "6         NaN  PETR4.SA -0.676578  \n",
       "8         NaN  PETR4.SA -0.645279  \n",
       "9         NaN  PETR4.SA -0.613980  "
      ]
     },
     "execution_count": 7,
     "metadata": {},
     "output_type": "execute_result"
    }
   ],
   "source": [
    "optionsInfo['Delta']=(optionsInfo.STRIKE_PRC/spot.TRDPRC_1.values[0])-1\n",
    "optionsInfo_C=optionsInfo[optionsInfo.PUTCALLIND=='CALL']\n",
    "optionsInfo_P=optionsInfo[optionsInfo.PUTCALLIND!='CALL']\n",
    "optionsInfo_C.head()"
   ]
  },
  {
   "cell_type": "markdown",
   "metadata": {},
   "source": [
    "### Show all the available expiration date"
   ]
  },
  {
   "cell_type": "code",
   "execution_count": 8,
   "metadata": {},
   "outputs": [
    {
     "data": {
      "text/html": [
       "<div>\n",
       "<style scoped>\n",
       "    .dataframe tbody tr th:only-of-type {\n",
       "        vertical-align: middle;\n",
       "    }\n",
       "\n",
       "    .dataframe tbody tr th {\n",
       "        vertical-align: top;\n",
       "    }\n",
       "\n",
       "    .dataframe thead th {\n",
       "        text-align: right;\n",
       "    }\n",
       "</style>\n",
       "<table border=\"1\" class=\"dataframe\">\n",
       "  <thead>\n",
       "    <tr style=\"text-align: right;\">\n",
       "      <th></th>\n",
       "      <th>Expirations</th>\n",
       "    </tr>\n",
       "  </thead>\n",
       "  <tbody>\n",
       "    <tr>\n",
       "      <th>0</th>\n",
       "      <td>2020-06-15</td>\n",
       "    </tr>\n",
       "    <tr>\n",
       "      <th>1</th>\n",
       "      <td>2020-07-20</td>\n",
       "    </tr>\n",
       "    <tr>\n",
       "      <th>2</th>\n",
       "      <td>2020-08-17</td>\n",
       "    </tr>\n",
       "    <tr>\n",
       "      <th>3</th>\n",
       "      <td>2020-09-21</td>\n",
       "    </tr>\n",
       "    <tr>\n",
       "      <th>4</th>\n",
       "      <td>2020-10-19</td>\n",
       "    </tr>\n",
       "    <tr>\n",
       "      <th>5</th>\n",
       "      <td>2020-11-16</td>\n",
       "    </tr>\n",
       "    <tr>\n",
       "      <th>6</th>\n",
       "      <td>2020-12-21</td>\n",
       "    </tr>\n",
       "    <tr>\n",
       "      <th>7</th>\n",
       "      <td>2021-01-18</td>\n",
       "    </tr>\n",
       "    <tr>\n",
       "      <th>8</th>\n",
       "      <td>2021-02-22</td>\n",
       "    </tr>\n",
       "    <tr>\n",
       "      <th>9</th>\n",
       "      <td>2021-03-15</td>\n",
       "    </tr>\n",
       "    <tr>\n",
       "      <th>10</th>\n",
       "      <td>2021-04-19</td>\n",
       "    </tr>\n",
       "    <tr>\n",
       "      <th>11</th>\n",
       "      <td>2021-05-21</td>\n",
       "    </tr>\n",
       "    <tr>\n",
       "      <th>12</th>\n",
       "      <td>2021-12-17</td>\n",
       "    </tr>\n",
       "    <tr>\n",
       "      <th>13</th>\n",
       "      <td>2022-02-18</td>\n",
       "    </tr>\n",
       "    <tr>\n",
       "      <th>14</th>\n",
       "      <td>2022-03-18</td>\n",
       "    </tr>\n",
       "    <tr>\n",
       "      <th>15</th>\n",
       "      <td>2022-04-14</td>\n",
       "    </tr>\n",
       "    <tr>\n",
       "      <th>16</th>\n",
       "      <td>2022-05-20</td>\n",
       "    </tr>\n",
       "  </tbody>\n",
       "</table>\n",
       "</div>"
      ],
      "text/plain": [
       "   Expirations\n",
       "0   2020-06-15\n",
       "1   2020-07-20\n",
       "2   2020-08-17\n",
       "3   2020-09-21\n",
       "4   2020-10-19\n",
       "5   2020-11-16\n",
       "6   2020-12-21\n",
       "7   2021-01-18\n",
       "8   2021-02-22\n",
       "9   2021-03-15\n",
       "10  2021-04-19\n",
       "11  2021-05-21\n",
       "12  2021-12-17\n",
       "13  2022-02-18\n",
       "14  2022-03-18\n",
       "15  2022-04-14\n",
       "16  2022-05-20"
      ]
     },
     "execution_count": 8,
     "metadata": {},
     "output_type": "execute_result"
    }
   ],
   "source": [
    "lldate=list(set(optionsInfo.EXPIR_DATE.values))\n",
    "lldate.sort()\n",
    "(pd.DataFrame(lldate,columns=['Expirations']))"
   ]
  },
  {
   "cell_type": "code",
   "execution_count": 9,
   "metadata": {},
   "outputs": [
    {
     "data": {
      "text/plain": [
       "['2020-07-20']"
      ]
     },
     "execution_count": 9,
     "metadata": {},
     "output_type": "execute_result"
    }
   ],
   "source": [
    "#Select Expitation -should be a list\n",
    "ll=lldate[1:2]\n",
    "ll"
   ]
  },
  {
   "cell_type": "code",
   "execution_count": 10,
   "metadata": {},
   "outputs": [],
   "source": [
    "# Select number of oprions around the money\n",
    "numOpc=40\n",
    "# Select number of oprions with % delta strik\n",
    "perDelta=0.15"
   ]
  },
  {
   "cell_type": "markdown",
   "metadata": {},
   "source": [
    "#### Filter according to the Delta\n"
   ]
  },
  {
   "cell_type": "code",
   "execution_count": 11,
   "metadata": {},
   "outputs": [
    {
     "data": {
      "text/html": [
       "<style>\n",
       ".output {\n",
       "    flex-direction: row;\n",
       "}\n",
       "</style>"
      ],
      "text/plain": [
       "<IPython.core.display.HTML object>"
      ]
     },
     "execution_count": 11,
     "metadata": {},
     "output_type": "execute_result"
    },
    {
     "data": {
      "text/html": [
       "<style  type=\"text/css\" >\n",
       "    #T_cd00f4d4_9b9d_11ea_bd3c_00bb60b7d977 th {\n",
       "          font-size: 11px;\n",
       "          text-align: center;\n",
       "          font-weight: bold;\n",
       "          color: #6d6d6d;\n",
       "          background-color: #f7f7f9;\n",
       "    }    #T_cd00f4d4_9b9d_11ea_bd3c_00bb60b7d977 td {\n",
       "          font-size: 11px;\n",
       "    }    #T_cd00f4d4_9b9d_11ea_bd3c_00bb60b7d977row0_col2 {\n",
       "            background-color:  #e5ffe5;\n",
       "            color:  #000000;\n",
       "        }    #T_cd00f4d4_9b9d_11ea_bd3c_00bb60b7d977row1_col2 {\n",
       "            background-color:  #dcfadc;\n",
       "            color:  #000000;\n",
       "        }    #T_cd00f4d4_9b9d_11ea_bd3c_00bb60b7d977row2_col2 {\n",
       "            background-color:  #d1f4d1;\n",
       "            color:  #000000;\n",
       "        }    #T_cd00f4d4_9b9d_11ea_bd3c_00bb60b7d977row3_col2 {\n",
       "            background-color:  #c7eec7;\n",
       "            color:  #000000;\n",
       "        }    #T_cd00f4d4_9b9d_11ea_bd3c_00bb60b7d977row4_col2 {\n",
       "            background-color:  #bce8bc;\n",
       "            color:  #000000;\n",
       "        }    #T_cd00f4d4_9b9d_11ea_bd3c_00bb60b7d977row5_col2 {\n",
       "            background-color:  #b1e2b1;\n",
       "            color:  #000000;\n",
       "        }    #T_cd00f4d4_9b9d_11ea_bd3c_00bb60b7d977row6_col2 {\n",
       "            background-color:  #a7dda7;\n",
       "            color:  #000000;\n",
       "        }    #T_cd00f4d4_9b9d_11ea_bd3c_00bb60b7d977row7_col2 {\n",
       "            background-color:  #9dd79d;\n",
       "            color:  #000000;\n",
       "        }    #T_cd00f4d4_9b9d_11ea_bd3c_00bb60b7d977row8_col2 {\n",
       "            background-color:  #92d192;\n",
       "            color:  #000000;\n",
       "        }    #T_cd00f4d4_9b9d_11ea_bd3c_00bb60b7d977row9_col2 {\n",
       "            background-color:  #88cb88;\n",
       "            color:  #000000;\n",
       "        }    #T_cd00f4d4_9b9d_11ea_bd3c_00bb60b7d977row10_col2 {\n",
       "            background-color:  #7dc57d;\n",
       "            color:  #000000;\n",
       "        }    #T_cd00f4d4_9b9d_11ea_bd3c_00bb60b7d977row11_col2 {\n",
       "            background-color:  #72bf72;\n",
       "            color:  #000000;\n",
       "        }    #T_cd00f4d4_9b9d_11ea_bd3c_00bb60b7d977row12_col2 {\n",
       "            background-color:  #68ba68;\n",
       "            color:  #000000;\n",
       "        }    #T_cd00f4d4_9b9d_11ea_bd3c_00bb60b7d977row13_col2 {\n",
       "            background-color:  #5eb45e;\n",
       "            color:  #000000;\n",
       "        }    #T_cd00f4d4_9b9d_11ea_bd3c_00bb60b7d977row14_col2 {\n",
       "            background-color:  #54ae54;\n",
       "            color:  #000000;\n",
       "        }    #T_cd00f4d4_9b9d_11ea_bd3c_00bb60b7d977row15_col2 {\n",
       "            background-color:  #49a849;\n",
       "            color:  #000000;\n",
       "        }    #T_cd00f4d4_9b9d_11ea_bd3c_00bb60b7d977row16_col2 {\n",
       "            background-color:  #3ea23e;\n",
       "            color:  #000000;\n",
       "        }    #T_cd00f4d4_9b9d_11ea_bd3c_00bb60b7d977row17_col2 {\n",
       "            background-color:  #349d34;\n",
       "            color:  #000000;\n",
       "        }    #T_cd00f4d4_9b9d_11ea_bd3c_00bb60b7d977row18_col2 {\n",
       "            background-color:  #299729;\n",
       "            color:  #000000;\n",
       "        }    #T_cd00f4d4_9b9d_11ea_bd3c_00bb60b7d977row19_col2 {\n",
       "            background-color:  #1f911f;\n",
       "            color:  #000000;\n",
       "        }    #T_cd00f4d4_9b9d_11ea_bd3c_00bb60b7d977row20_col2 {\n",
       "            background-color:  #158b15;\n",
       "            color:  #000000;\n",
       "        }    #T_cd00f4d4_9b9d_11ea_bd3c_00bb60b7d977row21_col2 {\n",
       "            background-color:  #0a850a;\n",
       "            color:  #f1f1f1;\n",
       "        }    #T_cd00f4d4_9b9d_11ea_bd3c_00bb60b7d977row22_col2 {\n",
       "            background-color:  #008000;\n",
       "            color:  #f1f1f1;\n",
       "        }</style><table id=\"T_cd00f4d4_9b9d_11ea_bd3c_00bb60b7d977\" ><caption>Call options</caption><thead>    <tr>        <th class=\"blank level0\" ></th>        <th class=\"col_heading level0 col0\" >Instrument</th>        <th class=\"col_heading level0 col1\" >TRDPRC_1</th>        <th class=\"col_heading level0 col2\" >STRIKE_PRC</th>        <th class=\"col_heading level0 col3\" >VOL_X_PRC1</th>    </tr></thead><tbody>\n",
       "                <tr>\n",
       "                        <th id=\"T_cd00f4d4_9b9d_11ea_bd3c_00bb60b7d977level0_row0\" class=\"row_heading level0 row0\" >267</th>\n",
       "                        <td id=\"T_cd00f4d4_9b9d_11ea_bd3c_00bb60b7d977row0_col0\" class=\"data row0 col0\" >PETR4G46.SA</td>\n",
       "                        <td id=\"T_cd00f4d4_9b9d_11ea_bd3c_00bb60b7d977row0_col1\" class=\"data row0 col1\" >3.44</td>\n",
       "                        <td id=\"T_cd00f4d4_9b9d_11ea_bd3c_00bb60b7d977row0_col2\" class=\"data row0 col2\" >16.49</td>\n",
       "                        <td id=\"T_cd00f4d4_9b9d_11ea_bd3c_00bb60b7d977row0_col3\" class=\"data row0 col3\" >20646</td>\n",
       "            </tr>\n",
       "            <tr>\n",
       "                        <th id=\"T_cd00f4d4_9b9d_11ea_bd3c_00bb60b7d977level0_row1\" class=\"row_heading level0 row1\" >269</th>\n",
       "                        <td id=\"T_cd00f4d4_9b9d_11ea_bd3c_00bb60b7d977row1_col0\" class=\"data row1 col0\" >PETR4G167.SA</td>\n",
       "                        <td id=\"T_cd00f4d4_9b9d_11ea_bd3c_00bb60b7d977row1_col1\" class=\"data row1 col1\" >3.37</td>\n",
       "                        <td id=\"T_cd00f4d4_9b9d_11ea_bd3c_00bb60b7d977row1_col2\" class=\"data row1 col2\" >16.74</td>\n",
       "                        <td id=\"T_cd00f4d4_9b9d_11ea_bd3c_00bb60b7d977row1_col3\" class=\"data row1 col3\" >73568</td>\n",
       "            </tr>\n",
       "            <tr>\n",
       "                        <th id=\"T_cd00f4d4_9b9d_11ea_bd3c_00bb60b7d977level0_row2\" class=\"row_heading level0 row2\" >271</th>\n",
       "                        <td id=\"T_cd00f4d4_9b9d_11ea_bd3c_00bb60b7d977row2_col0\" class=\"data row2 col0\" >PETR4G17.SA</td>\n",
       "                        <td id=\"T_cd00f4d4_9b9d_11ea_bd3c_00bb60b7d977row2_col1\" class=\"data row2 col1\" >3.05</td>\n",
       "                        <td id=\"T_cd00f4d4_9b9d_11ea_bd3c_00bb60b7d977row2_col2\" class=\"data row2 col2\" >16.99</td>\n",
       "                        <td id=\"T_cd00f4d4_9b9d_11ea_bd3c_00bb60b7d977row2_col3\" class=\"data row2 col3\" >139122</td>\n",
       "            </tr>\n",
       "            <tr>\n",
       "                        <th id=\"T_cd00f4d4_9b9d_11ea_bd3c_00bb60b7d977level0_row3\" class=\"row_heading level0 row3\" >273</th>\n",
       "                        <td id=\"T_cd00f4d4_9b9d_11ea_bd3c_00bb60b7d977row3_col0\" class=\"data row3 col0\" >PETR4G172.SA</td>\n",
       "                        <td id=\"T_cd00f4d4_9b9d_11ea_bd3c_00bb60b7d977row3_col1\" class=\"data row3 col1\" >2.94</td>\n",
       "                        <td id=\"T_cd00f4d4_9b9d_11ea_bd3c_00bb60b7d977row3_col2\" class=\"data row3 col2\" >17.24</td>\n",
       "                        <td id=\"T_cd00f4d4_9b9d_11ea_bd3c_00bb60b7d977row3_col3\" class=\"data row3 col3\" >95257</td>\n",
       "            </tr>\n",
       "            <tr>\n",
       "                        <th id=\"T_cd00f4d4_9b9d_11ea_bd3c_00bb60b7d977level0_row4\" class=\"row_heading level0 row4\" >275</th>\n",
       "                        <td id=\"T_cd00f4d4_9b9d_11ea_bd3c_00bb60b7d977row4_col0\" class=\"data row4 col0\" >PETR4G19.SA</td>\n",
       "                        <td id=\"T_cd00f4d4_9b9d_11ea_bd3c_00bb60b7d977row4_col1\" class=\"data row4 col1\" >2.7</td>\n",
       "                        <td id=\"T_cd00f4d4_9b9d_11ea_bd3c_00bb60b7d977row4_col2\" class=\"data row4 col2\" >17.49</td>\n",
       "                        <td id=\"T_cd00f4d4_9b9d_11ea_bd3c_00bb60b7d977row4_col3\" class=\"data row4 col3\" >205457</td>\n",
       "            </tr>\n",
       "            <tr>\n",
       "                        <th id=\"T_cd00f4d4_9b9d_11ea_bd3c_00bb60b7d977level0_row5\" class=\"row_heading level0 row5\" >278</th>\n",
       "                        <td id=\"T_cd00f4d4_9b9d_11ea_bd3c_00bb60b7d977row5_col0\" class=\"data row5 col0\" >PETR4G177.SA</td>\n",
       "                        <td id=\"T_cd00f4d4_9b9d_11ea_bd3c_00bb60b7d977row5_col1\" class=\"data row5 col1\" >2.64</td>\n",
       "                        <td id=\"T_cd00f4d4_9b9d_11ea_bd3c_00bb60b7d977row5_col2\" class=\"data row5 col2\" >17.74</td>\n",
       "                        <td id=\"T_cd00f4d4_9b9d_11ea_bd3c_00bb60b7d977row5_col3\" class=\"data row5 col3\" >40002</td>\n",
       "            </tr>\n",
       "            <tr>\n",
       "                        <th id=\"T_cd00f4d4_9b9d_11ea_bd3c_00bb60b7d977level0_row6\" class=\"row_heading level0 row6\" >280</th>\n",
       "                        <td id=\"T_cd00f4d4_9b9d_11ea_bd3c_00bb60b7d977row6_col0\" class=\"data row6 col0\" >PETR4G18.SA</td>\n",
       "                        <td id=\"T_cd00f4d4_9b9d_11ea_bd3c_00bb60b7d977row6_col1\" class=\"data row6 col1\" >2.35</td>\n",
       "                        <td id=\"T_cd00f4d4_9b9d_11ea_bd3c_00bb60b7d977row6_col2\" class=\"data row6 col2\" >17.99</td>\n",
       "                        <td id=\"T_cd00f4d4_9b9d_11ea_bd3c_00bb60b7d977row6_col3\" class=\"data row6 col3\" >320187</td>\n",
       "            </tr>\n",
       "            <tr>\n",
       "                        <th id=\"T_cd00f4d4_9b9d_11ea_bd3c_00bb60b7d977level0_row7\" class=\"row_heading level0 row7\" >281</th>\n",
       "                        <td id=\"T_cd00f4d4_9b9d_11ea_bd3c_00bb60b7d977row7_col0\" class=\"data row7 col0\" >PETR4G182.SA</td>\n",
       "                        <td id=\"T_cd00f4d4_9b9d_11ea_bd3c_00bb60b7d977row7_col1\" class=\"data row7 col1\" >2.28</td>\n",
       "                        <td id=\"T_cd00f4d4_9b9d_11ea_bd3c_00bb60b7d977row7_col2\" class=\"data row7 col2\" >18.24</td>\n",
       "                        <td id=\"T_cd00f4d4_9b9d_11ea_bd3c_00bb60b7d977row7_col3\" class=\"data row7 col3\" >127593</td>\n",
       "            </tr>\n",
       "            <tr>\n",
       "                        <th id=\"T_cd00f4d4_9b9d_11ea_bd3c_00bb60b7d977level0_row8\" class=\"row_heading level0 row8\" >284</th>\n",
       "                        <td id=\"T_cd00f4d4_9b9d_11ea_bd3c_00bb60b7d977row8_col0\" class=\"data row8 col0\" >PETR4G20.SA</td>\n",
       "                        <td id=\"T_cd00f4d4_9b9d_11ea_bd3c_00bb60b7d977row8_col1\" class=\"data row8 col1\" >2.03</td>\n",
       "                        <td id=\"T_cd00f4d4_9b9d_11ea_bd3c_00bb60b7d977row8_col2\" class=\"data row8 col2\" >18.49</td>\n",
       "                        <td id=\"T_cd00f4d4_9b9d_11ea_bd3c_00bb60b7d977row8_col3\" class=\"data row8 col3\" >317985</td>\n",
       "            </tr>\n",
       "            <tr>\n",
       "                        <th id=\"T_cd00f4d4_9b9d_11ea_bd3c_00bb60b7d977level0_row9\" class=\"row_heading level0 row9\" >286</th>\n",
       "                        <td id=\"T_cd00f4d4_9b9d_11ea_bd3c_00bb60b7d977row9_col0\" class=\"data row9 col0\" >PETR4G187.SA</td>\n",
       "                        <td id=\"T_cd00f4d4_9b9d_11ea_bd3c_00bb60b7d977row9_col1\" class=\"data row9 col1\" >1.95</td>\n",
       "                        <td id=\"T_cd00f4d4_9b9d_11ea_bd3c_00bb60b7d977row9_col2\" class=\"data row9 col2\" >18.74</td>\n",
       "                        <td id=\"T_cd00f4d4_9b9d_11ea_bd3c_00bb60b7d977row9_col3\" class=\"data row9 col3\" >139973</td>\n",
       "            </tr>\n",
       "            <tr>\n",
       "                        <th id=\"T_cd00f4d4_9b9d_11ea_bd3c_00bb60b7d977level0_row10\" class=\"row_heading level0 row10\" >287</th>\n",
       "                        <td id=\"T_cd00f4d4_9b9d_11ea_bd3c_00bb60b7d977row10_col0\" class=\"data row10 col0\" >PETR4G189.SA</td>\n",
       "                        <td id=\"T_cd00f4d4_9b9d_11ea_bd3c_00bb60b7d977row10_col1\" class=\"data row10 col1\" >1.81</td>\n",
       "                        <td id=\"T_cd00f4d4_9b9d_11ea_bd3c_00bb60b7d977row10_col2\" class=\"data row10 col2\" >18.99</td>\n",
       "                        <td id=\"T_cd00f4d4_9b9d_11ea_bd3c_00bb60b7d977row10_col3\" class=\"data row10 col3\" >939193</td>\n",
       "            </tr>\n",
       "            <tr>\n",
       "                        <th id=\"T_cd00f4d4_9b9d_11ea_bd3c_00bb60b7d977level0_row11\" class=\"row_heading level0 row11\" >290</th>\n",
       "                        <td id=\"T_cd00f4d4_9b9d_11ea_bd3c_00bb60b7d977row11_col0\" class=\"data row11 col0\" >PETR4G169.SA</td>\n",
       "                        <td id=\"T_cd00f4d4_9b9d_11ea_bd3c_00bb60b7d977row11_col1\" class=\"data row11 col1\" >1.67</td>\n",
       "                        <td id=\"T_cd00f4d4_9b9d_11ea_bd3c_00bb60b7d977row11_col2\" class=\"data row11 col2\" >19.24</td>\n",
       "                        <td id=\"T_cd00f4d4_9b9d_11ea_bd3c_00bb60b7d977row11_col3\" class=\"data row11 col3\" >91697</td>\n",
       "            </tr>\n",
       "            <tr>\n",
       "                        <th id=\"T_cd00f4d4_9b9d_11ea_bd3c_00bb60b7d977level0_row12\" class=\"row_heading level0 row12\" >291</th>\n",
       "                        <td id=\"T_cd00f4d4_9b9d_11ea_bd3c_00bb60b7d977row12_col0\" class=\"data row12 col0\" >PETR4G200.SA</td>\n",
       "                        <td id=\"T_cd00f4d4_9b9d_11ea_bd3c_00bb60b7d977row12_col1\" class=\"data row12 col1\" >1.48</td>\n",
       "                        <td id=\"T_cd00f4d4_9b9d_11ea_bd3c_00bb60b7d977row12_col2\" class=\"data row12 col2\" >19.49</td>\n",
       "                        <td id=\"T_cd00f4d4_9b9d_11ea_bd3c_00bb60b7d977row12_col3\" class=\"data row12 col3\" >204647</td>\n",
       "            </tr>\n",
       "            <tr>\n",
       "                        <th id=\"T_cd00f4d4_9b9d_11ea_bd3c_00bb60b7d977level0_row13\" class=\"row_heading level0 row13\" >293</th>\n",
       "                        <td id=\"T_cd00f4d4_9b9d_11ea_bd3c_00bb60b7d977row13_col0\" class=\"data row13 col0\" >PETR4G193.SA</td>\n",
       "                        <td id=\"T_cd00f4d4_9b9d_11ea_bd3c_00bb60b7d977row13_col1\" class=\"data row13 col1\" >1.38</td>\n",
       "                        <td id=\"T_cd00f4d4_9b9d_11ea_bd3c_00bb60b7d977row13_col2\" class=\"data row13 col2\" >19.74</td>\n",
       "                        <td id=\"T_cd00f4d4_9b9d_11ea_bd3c_00bb60b7d977row13_col3\" class=\"data row13 col3\" >46930</td>\n",
       "            </tr>\n",
       "            <tr>\n",
       "                        <th id=\"T_cd00f4d4_9b9d_11ea_bd3c_00bb60b7d977level0_row14\" class=\"row_heading level0 row14\" >296</th>\n",
       "                        <td id=\"T_cd00f4d4_9b9d_11ea_bd3c_00bb60b7d977row14_col0\" class=\"data row14 col0\" >PETR4G199.SA</td>\n",
       "                        <td id=\"T_cd00f4d4_9b9d_11ea_bd3c_00bb60b7d977row14_col1\" class=\"data row14 col1\" >1.25</td>\n",
       "                        <td id=\"T_cd00f4d4_9b9d_11ea_bd3c_00bb60b7d977row14_col2\" class=\"data row14 col2\" >19.99</td>\n",
       "                        <td id=\"T_cd00f4d4_9b9d_11ea_bd3c_00bb60b7d977row14_col3\" class=\"data row14 col3\" >587588</td>\n",
       "            </tr>\n",
       "            <tr>\n",
       "                        <th id=\"T_cd00f4d4_9b9d_11ea_bd3c_00bb60b7d977level0_row15\" class=\"row_heading level0 row15\" >298</th>\n",
       "                        <td id=\"T_cd00f4d4_9b9d_11ea_bd3c_00bb60b7d977row15_col0\" class=\"data row15 col0\" >PETR4G201.SA</td>\n",
       "                        <td id=\"T_cd00f4d4_9b9d_11ea_bd3c_00bb60b7d977row15_col1\" class=\"data row15 col1\" >1.19</td>\n",
       "                        <td id=\"T_cd00f4d4_9b9d_11ea_bd3c_00bb60b7d977row15_col2\" class=\"data row15 col2\" >20.24</td>\n",
       "                        <td id=\"T_cd00f4d4_9b9d_11ea_bd3c_00bb60b7d977row15_col3\" class=\"data row15 col3\" >81777</td>\n",
       "            </tr>\n",
       "            <tr>\n",
       "                        <th id=\"T_cd00f4d4_9b9d_11ea_bd3c_00bb60b7d977level0_row16\" class=\"row_heading level0 row16\" >300</th>\n",
       "                        <td id=\"T_cd00f4d4_9b9d_11ea_bd3c_00bb60b7d977row16_col0\" class=\"data row16 col0\" >PETR4G210.SA</td>\n",
       "                        <td id=\"T_cd00f4d4_9b9d_11ea_bd3c_00bb60b7d977row16_col1\" class=\"data row16 col1\" >1.04</td>\n",
       "                        <td id=\"T_cd00f4d4_9b9d_11ea_bd3c_00bb60b7d977row16_col2\" class=\"data row16 col2\" >20.49</td>\n",
       "                        <td id=\"T_cd00f4d4_9b9d_11ea_bd3c_00bb60b7d977row16_col3\" class=\"data row16 col3\" >295870</td>\n",
       "            </tr>\n",
       "            <tr>\n",
       "                        <th id=\"T_cd00f4d4_9b9d_11ea_bd3c_00bb60b7d977level0_row17\" class=\"row_heading level0 row17\" >302</th>\n",
       "                        <td id=\"T_cd00f4d4_9b9d_11ea_bd3c_00bb60b7d977row17_col0\" class=\"data row17 col0\" >PETR4G206.SA</td>\n",
       "                        <td id=\"T_cd00f4d4_9b9d_11ea_bd3c_00bb60b7d977row17_col1\" class=\"data row17 col1\" >1.01</td>\n",
       "                        <td id=\"T_cd00f4d4_9b9d_11ea_bd3c_00bb60b7d977row17_col2\" class=\"data row17 col2\" >20.74</td>\n",
       "                        <td id=\"T_cd00f4d4_9b9d_11ea_bd3c_00bb60b7d977row17_col3\" class=\"data row17 col3\" >14482</td>\n",
       "            </tr>\n",
       "            <tr>\n",
       "                        <th id=\"T_cd00f4d4_9b9d_11ea_bd3c_00bb60b7d977level0_row18\" class=\"row_heading level0 row18\" >303</th>\n",
       "                        <td id=\"T_cd00f4d4_9b9d_11ea_bd3c_00bb60b7d977row18_col0\" class=\"data row18 col0\" >PETR4G204.SA</td>\n",
       "                        <td id=\"T_cd00f4d4_9b9d_11ea_bd3c_00bb60b7d977row18_col1\" class=\"data row18 col1\" >0.88</td>\n",
       "                        <td id=\"T_cd00f4d4_9b9d_11ea_bd3c_00bb60b7d977row18_col2\" class=\"data row18 col2\" >20.99</td>\n",
       "                        <td id=\"T_cd00f4d4_9b9d_11ea_bd3c_00bb60b7d977row18_col3\" class=\"data row18 col3\" >112029</td>\n",
       "            </tr>\n",
       "            <tr>\n",
       "                        <th id=\"T_cd00f4d4_9b9d_11ea_bd3c_00bb60b7d977level0_row19\" class=\"row_heading level0 row19\" >305</th>\n",
       "                        <td id=\"T_cd00f4d4_9b9d_11ea_bd3c_00bb60b7d977row19_col0\" class=\"data row19 col0\" >PETR4G212.SA</td>\n",
       "                        <td id=\"T_cd00f4d4_9b9d_11ea_bd3c_00bb60b7d977row19_col1\" class=\"data row19 col1\" >0.81</td>\n",
       "                        <td id=\"T_cd00f4d4_9b9d_11ea_bd3c_00bb60b7d977row19_col2\" class=\"data row19 col2\" >21.24</td>\n",
       "                        <td id=\"T_cd00f4d4_9b9d_11ea_bd3c_00bb60b7d977row19_col3\" class=\"data row19 col3\" >291864</td>\n",
       "            </tr>\n",
       "            <tr>\n",
       "                        <th id=\"T_cd00f4d4_9b9d_11ea_bd3c_00bb60b7d977level0_row20\" class=\"row_heading level0 row20\" >308</th>\n",
       "                        <td id=\"T_cd00f4d4_9b9d_11ea_bd3c_00bb60b7d977row20_col0\" class=\"data row20 col0\" >PETR4G220.SA</td>\n",
       "                        <td id=\"T_cd00f4d4_9b9d_11ea_bd3c_00bb60b7d977row20_col1\" class=\"data row20 col1\" >0.76</td>\n",
       "                        <td id=\"T_cd00f4d4_9b9d_11ea_bd3c_00bb60b7d977row20_col2\" class=\"data row20 col2\" >21.49</td>\n",
       "                        <td id=\"T_cd00f4d4_9b9d_11ea_bd3c_00bb60b7d977row20_col3\" class=\"data row20 col3\" >383922</td>\n",
       "            </tr>\n",
       "            <tr>\n",
       "                        <th id=\"T_cd00f4d4_9b9d_11ea_bd3c_00bb60b7d977level0_row21\" class=\"row_heading level0 row21\" >310</th>\n",
       "                        <td id=\"T_cd00f4d4_9b9d_11ea_bd3c_00bb60b7d977row21_col0\" class=\"data row21 col0\" >PETR4G196.SA</td>\n",
       "                        <td id=\"T_cd00f4d4_9b9d_11ea_bd3c_00bb60b7d977row21_col1\" class=\"data row21 col1\" >0.77</td>\n",
       "                        <td id=\"T_cd00f4d4_9b9d_11ea_bd3c_00bb60b7d977row21_col2\" class=\"data row21 col2\" >21.74</td>\n",
       "                        <td id=\"T_cd00f4d4_9b9d_11ea_bd3c_00bb60b7d977row21_col3\" class=\"data row21 col3\" >3850</td>\n",
       "            </tr>\n",
       "            <tr>\n",
       "                        <th id=\"T_cd00f4d4_9b9d_11ea_bd3c_00bb60b7d977level0_row22\" class=\"row_heading level0 row22\" >312</th>\n",
       "                        <td id=\"T_cd00f4d4_9b9d_11ea_bd3c_00bb60b7d977row22_col0\" class=\"data row22 col0\" >PETR4G205.SA</td>\n",
       "                        <td id=\"T_cd00f4d4_9b9d_11ea_bd3c_00bb60b7d977row22_col1\" class=\"data row22 col1\" >nan</td>\n",
       "                        <td id=\"T_cd00f4d4_9b9d_11ea_bd3c_00bb60b7d977row22_col2\" class=\"data row22 col2\" >21.99</td>\n",
       "                        <td id=\"T_cd00f4d4_9b9d_11ea_bd3c_00bb60b7d977row22_col3\" class=\"data row22 col3\" >nan</td>\n",
       "            </tr>\n",
       "    </tbody></table>"
      ],
      "text/plain": [
       "<pandas.io.formats.style.Styler at 0x2b732e3d8d0>"
      ]
     },
     "execution_count": 11,
     "metadata": {},
     "output_type": "execute_result"
    },
    {
     "data": {
      "text/html": [
       "<style  type=\"text/css\" >\n",
       "    #T_cd069a24_9b9d_11ea_9ff1_00bb60b7d977 th {\n",
       "          font-size: 11px;\n",
       "          text-align: center;\n",
       "          font-weight: bold;\n",
       "          color: #6d6d6d;\n",
       "          background-color: #f7f7f9;\n",
       "    }    #T_cd069a24_9b9d_11ea_9ff1_00bb60b7d977 td {\n",
       "          font-size: 11px;\n",
       "    }    #T_cd069a24_9b9d_11ea_9ff1_00bb60b7d977row0_col2 {\n",
       "            background-color:  #008000;\n",
       "            color:  #f1f1f1;\n",
       "        }    #T_cd069a24_9b9d_11ea_9ff1_00bb60b7d977row1_col2 {\n",
       "            background-color:  #0a850a;\n",
       "            color:  #f1f1f1;\n",
       "        }    #T_cd069a24_9b9d_11ea_9ff1_00bb60b7d977row2_col2 {\n",
       "            background-color:  #158b15;\n",
       "            color:  #000000;\n",
       "        }    #T_cd069a24_9b9d_11ea_9ff1_00bb60b7d977row3_col2 {\n",
       "            background-color:  #1f911f;\n",
       "            color:  #000000;\n",
       "        }    #T_cd069a24_9b9d_11ea_9ff1_00bb60b7d977row4_col2 {\n",
       "            background-color:  #299729;\n",
       "            color:  #000000;\n",
       "        }    #T_cd069a24_9b9d_11ea_9ff1_00bb60b7d977row5_col2 {\n",
       "            background-color:  #349d34;\n",
       "            color:  #000000;\n",
       "        }    #T_cd069a24_9b9d_11ea_9ff1_00bb60b7d977row6_col2 {\n",
       "            background-color:  #3ea23e;\n",
       "            color:  #000000;\n",
       "        }    #T_cd069a24_9b9d_11ea_9ff1_00bb60b7d977row7_col2 {\n",
       "            background-color:  #49a849;\n",
       "            color:  #000000;\n",
       "        }    #T_cd069a24_9b9d_11ea_9ff1_00bb60b7d977row8_col2 {\n",
       "            background-color:  #54ae54;\n",
       "            color:  #000000;\n",
       "        }    #T_cd069a24_9b9d_11ea_9ff1_00bb60b7d977row9_col2 {\n",
       "            background-color:  #5eb45e;\n",
       "            color:  #000000;\n",
       "        }    #T_cd069a24_9b9d_11ea_9ff1_00bb60b7d977row10_col2 {\n",
       "            background-color:  #68ba68;\n",
       "            color:  #000000;\n",
       "        }    #T_cd069a24_9b9d_11ea_9ff1_00bb60b7d977row11_col2 {\n",
       "            background-color:  #73c073;\n",
       "            color:  #000000;\n",
       "        }    #T_cd069a24_9b9d_11ea_9ff1_00bb60b7d977row12_col2 {\n",
       "            background-color:  #7dc57d;\n",
       "            color:  #000000;\n",
       "        }    #T_cd069a24_9b9d_11ea_9ff1_00bb60b7d977row13_col2 {\n",
       "            background-color:  #88cb88;\n",
       "            color:  #000000;\n",
       "        }    #T_cd069a24_9b9d_11ea_9ff1_00bb60b7d977row14_col2 {\n",
       "            background-color:  #92d192;\n",
       "            color:  #000000;\n",
       "        }    #T_cd069a24_9b9d_11ea_9ff1_00bb60b7d977row15_col2 {\n",
       "            background-color:  #9dd79d;\n",
       "            color:  #000000;\n",
       "        }    #T_cd069a24_9b9d_11ea_9ff1_00bb60b7d977row16_col2 {\n",
       "            background-color:  #a7dda7;\n",
       "            color:  #000000;\n",
       "        }    #T_cd069a24_9b9d_11ea_9ff1_00bb60b7d977row17_col2 {\n",
       "            background-color:  #b1e2b1;\n",
       "            color:  #000000;\n",
       "        }    #T_cd069a24_9b9d_11ea_9ff1_00bb60b7d977row18_col2 {\n",
       "            background-color:  #bce8bc;\n",
       "            color:  #000000;\n",
       "        }    #T_cd069a24_9b9d_11ea_9ff1_00bb60b7d977row19_col2 {\n",
       "            background-color:  #c7eec7;\n",
       "            color:  #000000;\n",
       "        }    #T_cd069a24_9b9d_11ea_9ff1_00bb60b7d977row20_col2 {\n",
       "            background-color:  #d1f4d1;\n",
       "            color:  #000000;\n",
       "        }    #T_cd069a24_9b9d_11ea_9ff1_00bb60b7d977row21_col2 {\n",
       "            background-color:  #dcfadc;\n",
       "            color:  #000000;\n",
       "        }    #T_cd069a24_9b9d_11ea_9ff1_00bb60b7d977row22_col2 {\n",
       "            background-color:  #e5ffe5;\n",
       "            color:  #000000;\n",
       "        }</style><table id=\"T_cd069a24_9b9d_11ea_9ff1_00bb60b7d977\" ><caption>Put options</caption><thead>    <tr>        <th class=\"blank level0\" ></th>        <th class=\"col_heading level0 col0\" >Instrument</th>        <th class=\"col_heading level0 col1\" >TRDPRC_1</th>        <th class=\"col_heading level0 col2\" >STRIKE_PRC</th>        <th class=\"col_heading level0 col3\" >VOL_X_PRC1</th>    </tr></thead><tbody>\n",
       "                <tr>\n",
       "                        <th id=\"T_cd069a24_9b9d_11ea_9ff1_00bb60b7d977level0_row0\" class=\"row_heading level0 row0\" >268</th>\n",
       "                        <td id=\"T_cd069a24_9b9d_11ea_9ff1_00bb60b7d977row0_col0\" class=\"data row0 col0\" >PETR4S46.SA</td>\n",
       "                        <td id=\"T_cd069a24_9b9d_11ea_9ff1_00bb60b7d977row0_col1\" class=\"data row0 col1\" >0.61</td>\n",
       "                        <td id=\"T_cd069a24_9b9d_11ea_9ff1_00bb60b7d977row0_col2\" class=\"data row0 col2\" >16.49</td>\n",
       "                        <td id=\"T_cd069a24_9b9d_11ea_9ff1_00bb60b7d977row0_col3\" class=\"data row0 col3\" >8695</td>\n",
       "            </tr>\n",
       "            <tr>\n",
       "                        <th id=\"T_cd069a24_9b9d_11ea_9ff1_00bb60b7d977level0_row1\" class=\"row_heading level0 row1\" >270</th>\n",
       "                        <td id=\"T_cd069a24_9b9d_11ea_9ff1_00bb60b7d977row1_col0\" class=\"data row1 col0\" >PETR4S167.SA</td>\n",
       "                        <td id=\"T_cd069a24_9b9d_11ea_9ff1_00bb60b7d977row1_col1\" class=\"data row1 col1\" >nan</td>\n",
       "                        <td id=\"T_cd069a24_9b9d_11ea_9ff1_00bb60b7d977row1_col2\" class=\"data row1 col2\" >16.74</td>\n",
       "                        <td id=\"T_cd069a24_9b9d_11ea_9ff1_00bb60b7d977row1_col3\" class=\"data row1 col3\" >nan</td>\n",
       "            </tr>\n",
       "            <tr>\n",
       "                        <th id=\"T_cd069a24_9b9d_11ea_9ff1_00bb60b7d977level0_row2\" class=\"row_heading level0 row2\" >272</th>\n",
       "                        <td id=\"T_cd069a24_9b9d_11ea_9ff1_00bb60b7d977row2_col0\" class=\"data row2 col0\" >PETR4S17.SA</td>\n",
       "                        <td id=\"T_cd069a24_9b9d_11ea_9ff1_00bb60b7d977row2_col1\" class=\"data row2 col1\" >0.8</td>\n",
       "                        <td id=\"T_cd069a24_9b9d_11ea_9ff1_00bb60b7d977row2_col2\" class=\"data row2 col2\" >16.99</td>\n",
       "                        <td id=\"T_cd069a24_9b9d_11ea_9ff1_00bb60b7d977row2_col3\" class=\"data row2 col3\" >61351</td>\n",
       "            </tr>\n",
       "            <tr>\n",
       "                        <th id=\"T_cd069a24_9b9d_11ea_9ff1_00bb60b7d977level0_row3\" class=\"row_heading level0 row3\" >274</th>\n",
       "                        <td id=\"T_cd069a24_9b9d_11ea_9ff1_00bb60b7d977row3_col0\" class=\"data row3 col0\" >PETR4S172.SA</td>\n",
       "                        <td id=\"T_cd069a24_9b9d_11ea_9ff1_00bb60b7d977row3_col1\" class=\"data row3 col1\" >0.88</td>\n",
       "                        <td id=\"T_cd069a24_9b9d_11ea_9ff1_00bb60b7d977row3_col2\" class=\"data row3 col2\" >17.24</td>\n",
       "                        <td id=\"T_cd069a24_9b9d_11ea_9ff1_00bb60b7d977row3_col3\" class=\"data row3 col3\" >26925</td>\n",
       "            </tr>\n",
       "            <tr>\n",
       "                        <th id=\"T_cd069a24_9b9d_11ea_9ff1_00bb60b7d977level0_row4\" class=\"row_heading level0 row4\" >276</th>\n",
       "                        <td id=\"T_cd069a24_9b9d_11ea_9ff1_00bb60b7d977row4_col0\" class=\"data row4 col0\" >PETR4S19.SA</td>\n",
       "                        <td id=\"T_cd069a24_9b9d_11ea_9ff1_00bb60b7d977row4_col1\" class=\"data row4 col1\" >0.91</td>\n",
       "                        <td id=\"T_cd069a24_9b9d_11ea_9ff1_00bb60b7d977row4_col2\" class=\"data row4 col2\" >17.49</td>\n",
       "                        <td id=\"T_cd069a24_9b9d_11ea_9ff1_00bb60b7d977row4_col3\" class=\"data row4 col3\" >63718</td>\n",
       "            </tr>\n",
       "            <tr>\n",
       "                        <th id=\"T_cd069a24_9b9d_11ea_9ff1_00bb60b7d977level0_row5\" class=\"row_heading level0 row5\" >277</th>\n",
       "                        <td id=\"T_cd069a24_9b9d_11ea_9ff1_00bb60b7d977row5_col0\" class=\"data row5 col0\" >PETR4S177.SA</td>\n",
       "                        <td id=\"T_cd069a24_9b9d_11ea_9ff1_00bb60b7d977row5_col1\" class=\"data row5 col1\" >1.03</td>\n",
       "                        <td id=\"T_cd069a24_9b9d_11ea_9ff1_00bb60b7d977row5_col2\" class=\"data row5 col2\" >17.74</td>\n",
       "                        <td id=\"T_cd069a24_9b9d_11ea_9ff1_00bb60b7d977row5_col3\" class=\"data row5 col3\" >252749</td>\n",
       "            </tr>\n",
       "            <tr>\n",
       "                        <th id=\"T_cd069a24_9b9d_11ea_9ff1_00bb60b7d977level0_row6\" class=\"row_heading level0 row6\" >279</th>\n",
       "                        <td id=\"T_cd069a24_9b9d_11ea_9ff1_00bb60b7d977row6_col0\" class=\"data row6 col0\" >PETR4S18.SA</td>\n",
       "                        <td id=\"T_cd069a24_9b9d_11ea_9ff1_00bb60b7d977row6_col1\" class=\"data row6 col1\" >1.07</td>\n",
       "                        <td id=\"T_cd069a24_9b9d_11ea_9ff1_00bb60b7d977row6_col2\" class=\"data row6 col2\" >17.99</td>\n",
       "                        <td id=\"T_cd069a24_9b9d_11ea_9ff1_00bb60b7d977row6_col3\" class=\"data row6 col3\" >170080</td>\n",
       "            </tr>\n",
       "            <tr>\n",
       "                        <th id=\"T_cd069a24_9b9d_11ea_9ff1_00bb60b7d977level0_row7\" class=\"row_heading level0 row7\" >282</th>\n",
       "                        <td id=\"T_cd069a24_9b9d_11ea_9ff1_00bb60b7d977row7_col0\" class=\"data row7 col0\" >PETR4S182.SA</td>\n",
       "                        <td id=\"T_cd069a24_9b9d_11ea_9ff1_00bb60b7d977row7_col1\" class=\"data row7 col1\" >1.16</td>\n",
       "                        <td id=\"T_cd069a24_9b9d_11ea_9ff1_00bb60b7d977row7_col2\" class=\"data row7 col2\" >18.24</td>\n",
       "                        <td id=\"T_cd069a24_9b9d_11ea_9ff1_00bb60b7d977row7_col3\" class=\"data row7 col3\" >60910</td>\n",
       "            </tr>\n",
       "            <tr>\n",
       "                        <th id=\"T_cd069a24_9b9d_11ea_9ff1_00bb60b7d977level0_row8\" class=\"row_heading level0 row8\" >283</th>\n",
       "                        <td id=\"T_cd069a24_9b9d_11ea_9ff1_00bb60b7d977row8_col0\" class=\"data row8 col0\" >PETR4S20.SA</td>\n",
       "                        <td id=\"T_cd069a24_9b9d_11ea_9ff1_00bb60b7d977row8_col1\" class=\"data row8 col1\" >1.28</td>\n",
       "                        <td id=\"T_cd069a24_9b9d_11ea_9ff1_00bb60b7d977row8_col2\" class=\"data row8 col2\" >18.49</td>\n",
       "                        <td id=\"T_cd069a24_9b9d_11ea_9ff1_00bb60b7d977row8_col3\" class=\"data row8 col3\" >342550</td>\n",
       "            </tr>\n",
       "            <tr>\n",
       "                        <th id=\"T_cd069a24_9b9d_11ea_9ff1_00bb60b7d977level0_row9\" class=\"row_heading level0 row9\" >285</th>\n",
       "                        <td id=\"T_cd069a24_9b9d_11ea_9ff1_00bb60b7d977row9_col0\" class=\"data row9 col0\" >PETR4S187.SA</td>\n",
       "                        <td id=\"T_cd069a24_9b9d_11ea_9ff1_00bb60b7d977row9_col1\" class=\"data row9 col1\" >1.36</td>\n",
       "                        <td id=\"T_cd069a24_9b9d_11ea_9ff1_00bb60b7d977row9_col2\" class=\"data row9 col2\" >18.74</td>\n",
       "                        <td id=\"T_cd069a24_9b9d_11ea_9ff1_00bb60b7d977row9_col3\" class=\"data row9 col3\" >84673</td>\n",
       "            </tr>\n",
       "            <tr>\n",
       "                        <th id=\"T_cd069a24_9b9d_11ea_9ff1_00bb60b7d977level0_row10\" class=\"row_heading level0 row10\" >288</th>\n",
       "                        <td id=\"T_cd069a24_9b9d_11ea_9ff1_00bb60b7d977row10_col0\" class=\"data row10 col0\" >PETR4S189.SA</td>\n",
       "                        <td id=\"T_cd069a24_9b9d_11ea_9ff1_00bb60b7d977row10_col1\" class=\"data row10 col1\" >1.51</td>\n",
       "                        <td id=\"T_cd069a24_9b9d_11ea_9ff1_00bb60b7d977row10_col2\" class=\"data row10 col2\" >18.99</td>\n",
       "                        <td id=\"T_cd069a24_9b9d_11ea_9ff1_00bb60b7d977row10_col3\" class=\"data row10 col3\" >226567</td>\n",
       "            </tr>\n",
       "            <tr>\n",
       "                        <th id=\"T_cd069a24_9b9d_11ea_9ff1_00bb60b7d977level0_row11\" class=\"row_heading level0 row11\" >289</th>\n",
       "                        <td id=\"T_cd069a24_9b9d_11ea_9ff1_00bb60b7d977row11_col0\" class=\"data row11 col0\" >PETR4S169.SA</td>\n",
       "                        <td id=\"T_cd069a24_9b9d_11ea_9ff1_00bb60b7d977row11_col1\" class=\"data row11 col1\" >1.56</td>\n",
       "                        <td id=\"T_cd069a24_9b9d_11ea_9ff1_00bb60b7d977row11_col2\" class=\"data row11 col2\" >19.24</td>\n",
       "                        <td id=\"T_cd069a24_9b9d_11ea_9ff1_00bb60b7d977row11_col3\" class=\"data row11 col3\" >29760</td>\n",
       "            </tr>\n",
       "            <tr>\n",
       "                        <th id=\"T_cd069a24_9b9d_11ea_9ff1_00bb60b7d977level0_row12\" class=\"row_heading level0 row12\" >292</th>\n",
       "                        <td id=\"T_cd069a24_9b9d_11ea_9ff1_00bb60b7d977row12_col0\" class=\"data row12 col0\" >PETR4S200.SA</td>\n",
       "                        <td id=\"T_cd069a24_9b9d_11ea_9ff1_00bb60b7d977row12_col1\" class=\"data row12 col1\" >1.74</td>\n",
       "                        <td id=\"T_cd069a24_9b9d_11ea_9ff1_00bb60b7d977row12_col2\" class=\"data row12 col2\" >19.49</td>\n",
       "                        <td id=\"T_cd069a24_9b9d_11ea_9ff1_00bb60b7d977row12_col3\" class=\"data row12 col3\" >273943</td>\n",
       "            </tr>\n",
       "            <tr>\n",
       "                        <th id=\"T_cd069a24_9b9d_11ea_9ff1_00bb60b7d977level0_row13\" class=\"row_heading level0 row13\" >294</th>\n",
       "                        <td id=\"T_cd069a24_9b9d_11ea_9ff1_00bb60b7d977row13_col0\" class=\"data row13 col0\" >PETR4S193.SA</td>\n",
       "                        <td id=\"T_cd069a24_9b9d_11ea_9ff1_00bb60b7d977row13_col1\" class=\"data row13 col1\" >1.87</td>\n",
       "                        <td id=\"T_cd069a24_9b9d_11ea_9ff1_00bb60b7d977row13_col2\" class=\"data row13 col2\" >19.74</td>\n",
       "                        <td id=\"T_cd069a24_9b9d_11ea_9ff1_00bb60b7d977row13_col3\" class=\"data row13 col3\" >47927</td>\n",
       "            </tr>\n",
       "            <tr>\n",
       "                        <th id=\"T_cd069a24_9b9d_11ea_9ff1_00bb60b7d977level0_row14\" class=\"row_heading level0 row14\" >295</th>\n",
       "                        <td id=\"T_cd069a24_9b9d_11ea_9ff1_00bb60b7d977row14_col0\" class=\"data row14 col0\" >PETR4S199.SA</td>\n",
       "                        <td id=\"T_cd069a24_9b9d_11ea_9ff1_00bb60b7d977row14_col1\" class=\"data row14 col1\" >2</td>\n",
       "                        <td id=\"T_cd069a24_9b9d_11ea_9ff1_00bb60b7d977row14_col2\" class=\"data row14 col2\" >19.99</td>\n",
       "                        <td id=\"T_cd069a24_9b9d_11ea_9ff1_00bb60b7d977row14_col3\" class=\"data row14 col3\" >466657</td>\n",
       "            </tr>\n",
       "            <tr>\n",
       "                        <th id=\"T_cd069a24_9b9d_11ea_9ff1_00bb60b7d977level0_row15\" class=\"row_heading level0 row15\" >297</th>\n",
       "                        <td id=\"T_cd069a24_9b9d_11ea_9ff1_00bb60b7d977row15_col0\" class=\"data row15 col0\" >PETR4S201.SA</td>\n",
       "                        <td id=\"T_cd069a24_9b9d_11ea_9ff1_00bb60b7d977row15_col1\" class=\"data row15 col1\" >1.86</td>\n",
       "                        <td id=\"T_cd069a24_9b9d_11ea_9ff1_00bb60b7d977row15_col2\" class=\"data row15 col2\" >20.24</td>\n",
       "                        <td id=\"T_cd069a24_9b9d_11ea_9ff1_00bb60b7d977row15_col3\" class=\"data row15 col3\" >55158</td>\n",
       "            </tr>\n",
       "            <tr>\n",
       "                        <th id=\"T_cd069a24_9b9d_11ea_9ff1_00bb60b7d977level0_row16\" class=\"row_heading level0 row16\" >299</th>\n",
       "                        <td id=\"T_cd069a24_9b9d_11ea_9ff1_00bb60b7d977row16_col0\" class=\"data row16 col0\" >PETR4S210.SA</td>\n",
       "                        <td id=\"T_cd069a24_9b9d_11ea_9ff1_00bb60b7d977row16_col1\" class=\"data row16 col1\" >2.23</td>\n",
       "                        <td id=\"T_cd069a24_9b9d_11ea_9ff1_00bb60b7d977row16_col2\" class=\"data row16 col2\" >20.49</td>\n",
       "                        <td id=\"T_cd069a24_9b9d_11ea_9ff1_00bb60b7d977row16_col3\" class=\"data row16 col3\" >36805</td>\n",
       "            </tr>\n",
       "            <tr>\n",
       "                        <th id=\"T_cd069a24_9b9d_11ea_9ff1_00bb60b7d977level0_row17\" class=\"row_heading level0 row17\" >301</th>\n",
       "                        <td id=\"T_cd069a24_9b9d_11ea_9ff1_00bb60b7d977row17_col0\" class=\"data row17 col0\" >PETR4S206.SA</td>\n",
       "                        <td id=\"T_cd069a24_9b9d_11ea_9ff1_00bb60b7d977row17_col1\" class=\"data row17 col1\" >2.36</td>\n",
       "                        <td id=\"T_cd069a24_9b9d_11ea_9ff1_00bb60b7d977row17_col2\" class=\"data row17 col2\" >20.74</td>\n",
       "                        <td id=\"T_cd069a24_9b9d_11ea_9ff1_00bb60b7d977row17_col3\" class=\"data row17 col3\" >22290</td>\n",
       "            </tr>\n",
       "            <tr>\n",
       "                        <th id=\"T_cd069a24_9b9d_11ea_9ff1_00bb60b7d977level0_row18\" class=\"row_heading level0 row18\" >304</th>\n",
       "                        <td id=\"T_cd069a24_9b9d_11ea_9ff1_00bb60b7d977row18_col0\" class=\"data row18 col0\" >PETR4S204.SA</td>\n",
       "                        <td id=\"T_cd069a24_9b9d_11ea_9ff1_00bb60b7d977row18_col1\" class=\"data row18 col1\" >2.62</td>\n",
       "                        <td id=\"T_cd069a24_9b9d_11ea_9ff1_00bb60b7d977row18_col2\" class=\"data row18 col2\" >20.99</td>\n",
       "                        <td id=\"T_cd069a24_9b9d_11ea_9ff1_00bb60b7d977row18_col3\" class=\"data row18 col3\" >930546</td>\n",
       "            </tr>\n",
       "            <tr>\n",
       "                        <th id=\"T_cd069a24_9b9d_11ea_9ff1_00bb60b7d977level0_row19\" class=\"row_heading level0 row19\" >306</th>\n",
       "                        <td id=\"T_cd069a24_9b9d_11ea_9ff1_00bb60b7d977row19_col0\" class=\"data row19 col0\" >PETR4S212.SA</td>\n",
       "                        <td id=\"T_cd069a24_9b9d_11ea_9ff1_00bb60b7d977row19_col1\" class=\"data row19 col1\" >2.79</td>\n",
       "                        <td id=\"T_cd069a24_9b9d_11ea_9ff1_00bb60b7d977row19_col2\" class=\"data row19 col2\" >21.24</td>\n",
       "                        <td id=\"T_cd069a24_9b9d_11ea_9ff1_00bb60b7d977row19_col3\" class=\"data row19 col3\" >437599</td>\n",
       "            </tr>\n",
       "            <tr>\n",
       "                        <th id=\"T_cd069a24_9b9d_11ea_9ff1_00bb60b7d977level0_row20\" class=\"row_heading level0 row20\" >307</th>\n",
       "                        <td id=\"T_cd069a24_9b9d_11ea_9ff1_00bb60b7d977row20_col0\" class=\"data row20 col0\" >PETR4S220.SA</td>\n",
       "                        <td id=\"T_cd069a24_9b9d_11ea_9ff1_00bb60b7d977row20_col1\" class=\"data row20 col1\" >2.91</td>\n",
       "                        <td id=\"T_cd069a24_9b9d_11ea_9ff1_00bb60b7d977row20_col2\" class=\"data row20 col2\" >21.49</td>\n",
       "                        <td id=\"T_cd069a24_9b9d_11ea_9ff1_00bb60b7d977row20_col3\" class=\"data row20 col3\" >32329</td>\n",
       "            </tr>\n",
       "            <tr>\n",
       "                        <th id=\"T_cd069a24_9b9d_11ea_9ff1_00bb60b7d977level0_row21\" class=\"row_heading level0 row21\" >309</th>\n",
       "                        <td id=\"T_cd069a24_9b9d_11ea_9ff1_00bb60b7d977row21_col0\" class=\"data row21 col0\" >PETR4S196.SA</td>\n",
       "                        <td id=\"T_cd069a24_9b9d_11ea_9ff1_00bb60b7d977row21_col1\" class=\"data row21 col1\" >nan</td>\n",
       "                        <td id=\"T_cd069a24_9b9d_11ea_9ff1_00bb60b7d977row21_col2\" class=\"data row21 col2\" >21.74</td>\n",
       "                        <td id=\"T_cd069a24_9b9d_11ea_9ff1_00bb60b7d977row21_col3\" class=\"data row21 col3\" >nan</td>\n",
       "            </tr>\n",
       "            <tr>\n",
       "                        <th id=\"T_cd069a24_9b9d_11ea_9ff1_00bb60b7d977level0_row22\" class=\"row_heading level0 row22\" >311</th>\n",
       "                        <td id=\"T_cd069a24_9b9d_11ea_9ff1_00bb60b7d977row22_col0\" class=\"data row22 col0\" >PETR4S205.SA</td>\n",
       "                        <td id=\"T_cd069a24_9b9d_11ea_9ff1_00bb60b7d977row22_col1\" class=\"data row22 col1\" >nan</td>\n",
       "                        <td id=\"T_cd069a24_9b9d_11ea_9ff1_00bb60b7d977row22_col2\" class=\"data row22 col2\" >21.99</td>\n",
       "                        <td id=\"T_cd069a24_9b9d_11ea_9ff1_00bb60b7d977row22_col3\" class=\"data row22 col3\" >nan</td>\n",
       "            </tr>\n",
       "    </tbody></table>"
      ],
      "text/plain": [
       "<pandas.io.formats.style.Styler at 0x2b732e3d898>"
      ]
     },
     "execution_count": 11,
     "metadata": {},
     "output_type": "execute_result"
    }
   ],
   "source": [
    "Selec_C=Func.DeltaStreikFilter(optionsInfo_C,ll,None,perDelta)\n",
    "Selec_P=Func.DeltaStreikFilter(optionsInfo_P,ll,None,perDelta)\n",
    "\n",
    "callRIC=pd.DataFrame(Selec_C).T\n",
    "callRIC.columns=ll\n",
    "call=pd.DataFrame([optionsInfo[optionsInfo.Instrument.isin(Selec_C[i])].STRIKE_PRC.values for i in range(len(Selec_C))]).T\n",
    "call.columns=ll\n",
    "\n",
    "putRIC=pd.DataFrame(Selec_P).T\n",
    "putRIC.columns=ll\n",
    "put=pd.DataFrame([optionsInfo[optionsInfo.Instrument.isin(Selec_P[i])].STRIKE_PRC.values for i in range(len(Selec_P))]).T\n",
    "put.columns=ll\n",
    "\n",
    "CSS = \"\"\"\n",
    ".output {\n",
    "    flex-direction: row;\n",
    "}\n",
    "\"\"\"\n",
    "HTML('<style>{}</style>'.format(CSS))\n",
    "\n",
    "t1,t2,call,put=Func.Screen(optionsInfo,Selec_C,Selec_P)\n",
    "t1\n",
    "t2"
   ]
  },
  {
   "cell_type": "markdown",
   "metadata": {},
   "source": [
    "# Strategies:\n",
    "-----\n",
    "- 1. [Bullish strategies](#Bullishstrategies)\n",
    "    - 1.1 [Long Call](#Longcall)\n",
    "    - 1.2 [Long Call Spread](#LongCallSpread)\n",
    "    - 1.3 [Back Spread with Calls](#BackSpread)\n",
    "    - 1.4 [Skip Strike Butterfly with Calls](#SkipStrike)\n",
    "\n",
    "- 1.5 [Inverse Skip Strike Butterfly with Calls](#InverseSkip)\n",
    "    - 1.6 [Christmas Tree Butterfly with Calls](#ChristmasTree)\n",
    "    - 1.7 [Short Put](#ShortPut)\n",
    "    - 1.8 [ Long Combination](#LongCombination)\n",
    "    - 1.9 [Front Spread with Calls](#FrontSpread)\n",
    "\n",
    "-----\n",
    "- 2. [Bearish strategys](#Bearishstrategys)\n",
    "    - 2.1 [Long Put](#LongPut)\n",
    "    - 2.2 [Long Put Spread](#LongPutSpread)\n",
    "    - 2.3 [Back Spread with Puts](#BackSpreadwithPuts)\n",
    "    - 2.4 [Skip Strike Butterfly with Puts](#SkipStrikeButterflywithPuts)\n",
    "    - 2.5 [Inverse Skip Strike Butterfly with Puts](#InverseSkipStrikeButterflywithPuts)\n",
    "    - 2.6 [Short Call](#ShortCall)\n",
    "    - 2.7 [Short Combination](#ShortCombination)\n",
    "    - 2.8 [Front Spread with Puts](#FrontSpreadwithPuts)\n",
    "\n",
    "-----\n",
    "- 3. [Volatility short strategy (Sell Volatility)](#Volatilityshortstrategy(SellVolatility))\n",
    "    - 3.1 [Long Butterfly Spread with Calls](#LongButterflySpreadwithCalls)\n",
    "    - 3.2 [Iron Butterfly](#IronButterfly)\n",
    "    - 3.3 [Long Condor Spread with Calls](#LongCondorSpreadwithCalls)\n",
    "    - 3.4 [Iron Condor](#IronCondor)\n",
    "    - 3.5 [Short Straddle](#ShortStraddle)\n",
    "    - 3.6 [Short Strangle](#ShortStrangle)\n",
    "\n",
    "-----\n",
    "4. [Volatility Long Strategy (Buy Volatility)](#VolatilityLongStrategy(BuyVolatility))\n",
    "    - 4.1 [Long Straddle](#LongStraddle)\n",
    "    - 4.1 [Long Strangle](#LongStrangle)\n"
   ]
  },
  {
   "cell_type": "markdown",
   "metadata": {},
   "source": [
    "## Options Strategies"
   ]
  },
  {
   "cell_type": "markdown",
   "metadata": {},
   "source": [
    "### Bullish strategies\n",
    "<a id='Bullishstrategies'>"
   ]
  },
  {
   "cell_type": "markdown",
   "metadata": {},
   "source": [
    "<a id='Longcall'>"
   ]
  },
  {
   "cell_type": "markdown",
   "metadata": {},
   "source": [
    "#### Long Call"
   ]
  },
  {
   "cell_type": "code",
   "execution_count": null,
   "metadata": {},
   "outputs": [],
   "source": [
    "ListStrategi=[call.iloc[int(len(call)*0.4),].Instrument]\n",
    "data=optionsInfo[optionsInfo.Instrument.isin(ListStrategi).tolist()]\n",
    "pd.options.mode.chained_assignment = None\n",
    "data['Amount']=[1000]\n",
    "data"
   ]
  },
  {
   "cell_type": "code",
   "execution_count": null,
   "metadata": {},
   "outputs": [],
   "source": [
    "fign,p=Func.all(spot,data)\n",
    "fign"
   ]
  },
  {
   "cell_type": "markdown",
   "metadata": {},
   "source": [
    "<a id='LongCallSpread'>"
   ]
  },
  {
   "cell_type": "markdown",
   "metadata": {},
   "source": [
    "#### Long Call Spread"
   ]
  },
  {
   "cell_type": "code",
   "execution_count": null,
   "metadata": {},
   "outputs": [],
   "source": [
    "ListStrategi=[call.iloc[int(len(call)*0.5),].Instrument,\n",
    "             call.iloc[int(len(call)*0.7),].Instrument]\n",
    "\n",
    "data=optionsInfo[optionsInfo.Instrument.isin(ListStrategi).tolist()]\n",
    "pd.options.mode.chained_assignment = None\n",
    "data['Amount']=[1000,\n",
    "                -1000]"
   ]
  },
  {
   "cell_type": "code",
   "execution_count": null,
   "metadata": {},
   "outputs": [],
   "source": [
    "fign,p=Func.all(spot,data)\n",
    "fign"
   ]
  },
  {
   "cell_type": "markdown",
   "metadata": {},
   "source": [
    "<a id='BackSpread'>"
   ]
  },
  {
   "cell_type": "markdown",
   "metadata": {},
   "source": [
    "#### Back Spread with Calls"
   ]
  },
  {
   "cell_type": "code",
   "execution_count": null,
   "metadata": {},
   "outputs": [],
   "source": [
    "ListStrategi=[call.iloc[int(len(call)*0.4),].Instrument,\n",
    "             call.iloc[int(len(call)*0.7),].Instrument]\n",
    "\n",
    "data=optionsInfo[optionsInfo.Instrument.isin(ListStrategi).tolist()]\n",
    "pd.options.mode.chained_assignment = None\n",
    "data['Amount']=[-1000,\n",
    "                2000]"
   ]
  },
  {
   "cell_type": "code",
   "execution_count": null,
   "metadata": {},
   "outputs": [],
   "source": [
    "fign,p=Func.all(spot,data)\n",
    "fign"
   ]
  },
  {
   "cell_type": "markdown",
   "metadata": {},
   "source": [
    "<a id='SkipStrike'>"
   ]
  },
  {
   "cell_type": "markdown",
   "metadata": {},
   "source": [
    "#### Skip Strike Butterfly with Calls"
   ]
  },
  {
   "cell_type": "code",
   "execution_count": null,
   "metadata": {},
   "outputs": [],
   "source": [
    "# -- SKIP STRIKE BUTTERFLY W/CALLS\n",
    "ListStrategi=[call.iloc[int(len(call)*0.4),].Instrument,\n",
    "             call.iloc[int(len(call)*0.6),].Instrument,\n",
    "             call.iloc[int(len(call)*0.8),].Instrument]\n",
    "\n",
    "data=optionsInfo[optionsInfo.Instrument.isin(ListStrategi).tolist()]\n",
    "pd.options\n",
    "data['Amount']=[1000,\n",
    "                -2000,\n",
    "               1000]"
   ]
  },
  {
   "cell_type": "code",
   "execution_count": null,
   "metadata": {},
   "outputs": [],
   "source": [
    "fign,p=Func.all(spot,data)\n",
    "fig"
   ]
  },
  {
   "cell_type": "markdown",
   "metadata": {},
   "source": [
    "<a id='InverseSkip'>"
   ]
  },
  {
   "cell_type": "markdown",
   "metadata": {},
   "source": [
    "#### Inverse Skip Strike Butterfly with Calls"
   ]
  },
  {
   "cell_type": "code",
   "execution_count": null,
   "metadata": {},
   "outputs": [],
   "source": [
    "ListStrategi=[call.iloc[int(len(call)*0.4),].Instrument,\n",
    "             call.iloc[int(len(call)*0.6),].Instrument,\n",
    "             call.iloc[int(len(call)*0.8),].Instrument]\n",
    "\n",
    "data=optionsInfo[optionsInfo.Instrument.isin(ListStrategi).tolist()]\n",
    "pd.options.mode.chained_assignment = None\n",
    "data['Amount']=[-1000,\n",
    "                2000,\n",
    "               -1000]"
   ]
  },
  {
   "cell_type": "code",
   "execution_count": null,
   "metadata": {},
   "outputs": [],
   "source": [
    "fign,p=Func.all(spot,data)\n",
    "fign"
   ]
  },
  {
   "cell_type": "markdown",
   "metadata": {},
   "source": [
    "<a id='ChristmasTree'>"
   ]
  },
  {
   "cell_type": "markdown",
   "metadata": {},
   "source": [
    "#### Christmas Tree Butterfly with Calls"
   ]
  },
  {
   "cell_type": "code",
   "execution_count": null,
   "metadata": {},
   "outputs": [],
   "source": [
    "ListStrategi=[call.iloc[int(len(call)*0.4),].Instrument,\n",
    "             call.iloc[int(len(call)*0.7),].Instrument,\n",
    "             call.iloc[int(len(call)*0.8),].Instrument]\n",
    "\n",
    "data=optionsInfo[optionsInfo.Instrument.isin(ListStrategi).tolist()]\n",
    "pd.options.mode.chained_assignment = None\n",
    "data['Amount']=[1000,\n",
    "                -3000,\n",
    "               2000]"
   ]
  },
  {
   "cell_type": "code",
   "execution_count": null,
   "metadata": {},
   "outputs": [],
   "source": [
    "fign,p=Func.all(spot,data)\n",
    "fign"
   ]
  },
  {
   "cell_type": "markdown",
   "metadata": {},
   "source": [
    "<a id='ShortPut'>"
   ]
  },
  {
   "cell_type": "markdown",
   "metadata": {},
   "source": [
    "#### Short Put"
   ]
  },
  {
   "cell_type": "code",
   "execution_count": null,
   "metadata": {},
   "outputs": [],
   "source": [
    "ListStrategi=[put.iloc[int(len(put)*0.5),].Instrument]\n",
    "\n",
    "data=optionsInfo[optionsInfo.Instrument.isin(ListStrategi).tolist()]\n",
    "pd.options.mode.chained_assignment = None\n",
    "data['Amount']=[-1000]"
   ]
  },
  {
   "cell_type": "code",
   "execution_count": null,
   "metadata": {},
   "outputs": [],
   "source": [
    "fign,p=Func.all(spot,data)\n",
    "fig"
   ]
  },
  {
   "cell_type": "markdown",
   "metadata": {},
   "source": [
    "<a id='LongCombination'>"
   ]
  },
  {
   "cell_type": "markdown",
   "metadata": {},
   "source": [
    "#### Long Combination"
   ]
  },
  {
   "cell_type": "code",
   "execution_count": null,
   "metadata": {},
   "outputs": [],
   "source": [
    "ListStrategi=[call.iloc[int(len(call)*0.5),].Instrument,\n",
    "             put.iloc[int(len(put)*0.5),].Instrument]\n",
    "\n",
    "data=optionsInfo[optionsInfo.Instrument.isin(ListStrategi).tolist()]\n",
    "pd.options.mode.chained_assignment = None\n",
    "data['Amount']=[1000,\n",
    "                -1000]"
   ]
  },
  {
   "cell_type": "code",
   "execution_count": null,
   "metadata": {},
   "outputs": [],
   "source": [
    "fign,p=Func.all(spot,data)\n",
    "fign"
   ]
  },
  {
   "cell_type": "markdown",
   "metadata": {},
   "source": [
    "<a id='FrontSpread'>"
   ]
  },
  {
   "cell_type": "markdown",
   "metadata": {},
   "source": [
    "#### Front Spread with Calls"
   ]
  },
  {
   "cell_type": "code",
   "execution_count": null,
   "metadata": {},
   "outputs": [],
   "source": [
    "ListStrategi=[call.iloc[int(len(call)*0.4),].Instrument,\n",
    "             put.iloc[int(len(put)*0.6),].Instrument]\n",
    "\n",
    "data=optionsInfo[optionsInfo.Instrument.isin(ListStrategi).tolist()]\n",
    "pd.options.mode.chained_assignment = None\n",
    "data['Amount']=[1000,\n",
    "                -2000]"
   ]
  },
  {
   "cell_type": "code",
   "execution_count": null,
   "metadata": {},
   "outputs": [],
   "source": [
    "fign,p=Func.all(spot,data)\n",
    "fign"
   ]
  },
  {
   "cell_type": "markdown",
   "metadata": {},
   "source": [
    "<a id='Bearishstrategys'>"
   ]
  },
  {
   "cell_type": "markdown",
   "metadata": {},
   "source": [
    "### Bearish strategys"
   ]
  },
  {
   "cell_type": "markdown",
   "metadata": {},
   "source": [
    "<a id='LongPut'>"
   ]
  },
  {
   "cell_type": "markdown",
   "metadata": {},
   "source": [
    "####  Long Put"
   ]
  },
  {
   "cell_type": "code",
   "execution_count": null,
   "metadata": {},
   "outputs": [],
   "source": [
    "ListStrategi=[put.iloc[int(len(put)*0.6),].Instrument]\n",
    "\n",
    "data=optionsInfo[optionsInfo.Instrument.isin(ListStrategi).tolist()]\n",
    "pd.options.mode.chained_assignment = None\n",
    "data['Amount']=[1000]"
   ]
  },
  {
   "cell_type": "code",
   "execution_count": null,
   "metadata": {},
   "outputs": [],
   "source": [
    "fign,p=Func.all(spot,data)\n",
    "fig"
   ]
  },
  {
   "cell_type": "markdown",
   "metadata": {},
   "source": [
    "<a id='LongPutSpread'>"
   ]
  },
  {
   "cell_type": "markdown",
   "metadata": {},
   "source": [
    "#### Long Put Spread"
   ]
  },
  {
   "cell_type": "code",
   "execution_count": null,
   "metadata": {},
   "outputs": [],
   "source": [
    "ListStrategi=[put.iloc[int(len(put)*0.4),].Instrument,\n",
    "              put.iloc[int(len(put)*0.6),].Instrument]\n",
    "\n",
    "data=optionsInfo[optionsInfo.Instrument.isin(ListStrategi).tolist()]\n",
    "pd.options.mode.chained_assignment = None\n",
    "data['Amount']=[-1000,\n",
    "                1000]"
   ]
  },
  {
   "cell_type": "code",
   "execution_count": null,
   "metadata": {},
   "outputs": [],
   "source": [
    "fign,p=Func.all(spot,data)\n",
    "fign"
   ]
  },
  {
   "cell_type": "markdown",
   "metadata": {},
   "source": [
    "<a id='BackSpreadwithPuts'>"
   ]
  },
  {
   "cell_type": "markdown",
   "metadata": {},
   "source": [
    "#### Back Spread with Puts"
   ]
  },
  {
   "cell_type": "code",
   "execution_count": null,
   "metadata": {},
   "outputs": [],
   "source": [
    "ListStrategi=[put.iloc[int(len(put)*0.4),].Instrument,\n",
    "              put.iloc[int(len(put)*0.6),].Instrument]\n",
    "\n",
    "data=optionsInfo[optionsInfo.Instrument.isin(ListStrategi).tolist()]\n",
    "pd.options.mode.chained_assignment = None\n",
    "data['Amount']=[2000,\n",
    "                -1000]"
   ]
  },
  {
   "cell_type": "code",
   "execution_count": null,
   "metadata": {},
   "outputs": [],
   "source": [
    "fign,p=Func.all(spot,data)\n",
    "fig"
   ]
  },
  {
   "cell_type": "markdown",
   "metadata": {},
   "source": [
    "<a id='SkipStrikeButterflywithPuts'>"
   ]
  },
  {
   "cell_type": "markdown",
   "metadata": {},
   "source": [
    "#### Skip Strike Butterfly with Puts"
   ]
  },
  {
   "cell_type": "code",
   "execution_count": null,
   "metadata": {},
   "outputs": [],
   "source": [
    "ListStrategi=[put.iloc[int(len(put)*0.2),].Instrument,\n",
    "              put.iloc[int(len(put)*0.4),].Instrument,\n",
    "              put.iloc[int(len(put)*0.5),].Instrument]\n",
    "\n",
    "data=optionsInfo[optionsInfo.Instrument.isin(ListStrategi).tolist()]\n",
    "pd.options.mode.chained_assignment = None\n",
    "data['Amount']=[1000,\n",
    "                -2000,\n",
    "               1000]"
   ]
  },
  {
   "cell_type": "code",
   "execution_count": null,
   "metadata": {},
   "outputs": [],
   "source": [
    "fign,p=Func.all(spot,data)\n",
    "fig"
   ]
  },
  {
   "cell_type": "markdown",
   "metadata": {},
   "source": [
    "<a id='InverseSkipStrikeButterflywithPuts'>"
   ]
  },
  {
   "cell_type": "markdown",
   "metadata": {},
   "source": [
    "#### Inverse Skip Strike Butterfly with Puts"
   ]
  },
  {
   "cell_type": "code",
   "execution_count": null,
   "metadata": {},
   "outputs": [],
   "source": [
    "ListStrategi=[put.iloc[int(len(put)*0.2),].Instrument,\n",
    "              put.iloc[int(len(put)*0.4),].Instrument,\n",
    "              put.iloc[int(len(put)*0.5),].Instrument]\n",
    "\n",
    "data=optionsInfo[optionsInfo.Instrument.isin(ListStrategi).tolist()]\n",
    "pd.options.mode.chained_assignment = None\n",
    "data['Amount']=[-1000,\n",
    "                2000,\n",
    "               -1000]"
   ]
  },
  {
   "cell_type": "code",
   "execution_count": null,
   "metadata": {},
   "outputs": [],
   "source": [
    "fign,p=Func.all(spot,data)\n",
    "fign"
   ]
  },
  {
   "cell_type": "markdown",
   "metadata": {},
   "source": [
    "<a id='ChristmasTreeButterflywithPuts'>"
   ]
  },
  {
   "cell_type": "markdown",
   "metadata": {},
   "source": [
    "#### Christmas Tree Butterfly with Puts"
   ]
  },
  {
   "cell_type": "code",
   "execution_count": null,
   "metadata": {},
   "outputs": [],
   "source": [
    "ListStrategi=[put.iloc[int(len(put)*0.2),].Instrument,\n",
    "              put.iloc[int(len(put)*0.3),].Instrument,\n",
    "              put.iloc[int(len(put)*0.5),].Instrument]\n",
    "\n",
    "data=optionsInfo[optionsInfo.Instrument.isin(ListStrategi).tolist()]\n",
    "pd.options.mode.chained_assignment = None\n",
    "data['Amount']=[2000,\n",
    "                -3000,\n",
    "               1000]"
   ]
  },
  {
   "cell_type": "code",
   "execution_count": null,
   "metadata": {},
   "outputs": [],
   "source": [
    "fign,p=Func.all(spot,data)\n",
    "fig"
   ]
  },
  {
   "cell_type": "markdown",
   "metadata": {},
   "source": [
    "<a id='ShortCall'>"
   ]
  },
  {
   "cell_type": "markdown",
   "metadata": {},
   "source": [
    "#### Short Call"
   ]
  },
  {
   "cell_type": "code",
   "execution_count": null,
   "metadata": {},
   "outputs": [],
   "source": [
    "ListStrategi=[call.iloc[int(len(call)*0.5),].Instrument]\n",
    "\n",
    "data=optionsInfo[optionsInfo.Instrument.isin(ListStrategi).tolist()]\n",
    "pd.options.mode.chained_assignment = None\n",
    "data['Amount']=[-1000]"
   ]
  },
  {
   "cell_type": "code",
   "execution_count": null,
   "metadata": {},
   "outputs": [],
   "source": [
    "fign,p=Func.all(spot,data)\n",
    "fig"
   ]
  },
  {
   "cell_type": "markdown",
   "metadata": {},
   "source": [
    "<a id='ShortCombination'>"
   ]
  },
  {
   "cell_type": "markdown",
   "metadata": {},
   "source": [
    "#### Short Combination"
   ]
  },
  {
   "cell_type": "code",
   "execution_count": null,
   "metadata": {},
   "outputs": [],
   "source": [
    "ListStrategi=[call.iloc[int(len(call)*0.5),].Instrument,\n",
    "              put.iloc[int(len(put)*0.5),].Instrument]\n",
    "\n",
    "data=optionsInfo[optionsInfo.Instrument.isin(ListStrategi).tolist()]\n",
    "pd.options.mode.chained_assignment = None\n",
    "data['Amount']=[-1000,\n",
    "                1000]"
   ]
  },
  {
   "cell_type": "code",
   "execution_count": null,
   "metadata": {},
   "outputs": [],
   "source": [
    "fign,p=Func.all(spot,data)\n",
    "fign"
   ]
  },
  {
   "cell_type": "markdown",
   "metadata": {},
   "source": [
    "<a id='FrontSpreadwithPuts'>"
   ]
  },
  {
   "cell_type": "markdown",
   "metadata": {},
   "source": [
    "#### Front Spread with Puts"
   ]
  },
  {
   "cell_type": "code",
   "execution_count": null,
   "metadata": {},
   "outputs": [],
   "source": [
    "ListStrategi=[put.iloc[int(len(put)*0.5),].Instrument,\n",
    "              put.iloc[int(len(put)*0.7),].Instrument]\n",
    "\n",
    "data=optionsInfo[optionsInfo.Instrument.isin(ListStrategi).tolist()]\n",
    "pd.options.mode.chained_assignment = None\n",
    "\n",
    "data['Amount']=[-2000,\n",
    "                1000]"
   ]
  },
  {
   "cell_type": "code",
   "execution_count": null,
   "metadata": {},
   "outputs": [],
   "source": [
    "fign,p=Func.all(spot,data)\n",
    "fig"
   ]
  },
  {
   "cell_type": "markdown",
   "metadata": {},
   "source": [
    "<a id='Volatilityshortstrategy(SellVolatility)'>"
   ]
  },
  {
   "cell_type": "markdown",
   "metadata": {},
   "source": [
    "### Volatility short strategy (Sell Volatility)"
   ]
  },
  {
   "cell_type": "markdown",
   "metadata": {},
   "source": [
    "<a id='LongButterflySpreadwithCalls'>"
   ]
  },
  {
   "cell_type": "markdown",
   "metadata": {},
   "source": [
    "#### Long Butterfly Spread with Calls"
   ]
  },
  {
   "cell_type": "code",
   "execution_count": null,
   "metadata": {},
   "outputs": [],
   "source": [
    "ListStrategi=[call.iloc[int(len(call)*0.3),].Instrument,\n",
    "              call.iloc[int(len(call)*0.5),].Instrument,\n",
    "              call.iloc[int(len(call)*0.8),].Instrument]\n",
    "\n",
    "data=optionsInfo[optionsInfo.Instrument.isin(ListStrategi).tolist()]\n",
    "pd.options.mode.chained_assignment = None\n",
    "\n",
    "data['Amount']=[1000,\n",
    "                -2000,\n",
    "               1000]"
   ]
  },
  {
   "cell_type": "code",
   "execution_count": null,
   "metadata": {},
   "outputs": [],
   "source": [
    "fign,p=Func.all(spot,data)\n",
    "fign"
   ]
  },
  {
   "cell_type": "markdown",
   "metadata": {},
   "source": [
    "<a id='IronButterfly'>"
   ]
  },
  {
   "cell_type": "markdown",
   "metadata": {},
   "source": [
    "#### Iron Butterfly"
   ]
  },
  {
   "cell_type": "code",
   "execution_count": null,
   "metadata": {},
   "outputs": [],
   "source": [
    "ListStrategi=[put.iloc[int(len(put)*0.3),].Instrument,\n",
    "              put.iloc[int(len(put)*0.5),].Instrument,\n",
    "              call.iloc[int(len(call)*0.5),].Instrument,\n",
    "              call.iloc[int(len(call)*0.7),].Instrument]\n",
    "\n",
    "data=optionsInfo[optionsInfo.Instrument.isin(ListStrategi).tolist()]\n",
    "pd.options.mode.chained_assignment = None\n",
    "\n",
    "data['Amount']=[1000,\n",
    "                -1000,\n",
    "                -1000,\n",
    "               1000]\n",
    "data"
   ]
  },
  {
   "cell_type": "code",
   "execution_count": null,
   "metadata": {},
   "outputs": [],
   "source": [
    "fign,p=Func.all(spot,data)\n",
    "fign"
   ]
  },
  {
   "cell_type": "markdown",
   "metadata": {},
   "source": [
    "<a id='LongCondorSpreadwithCalls'>"
   ]
  },
  {
   "cell_type": "markdown",
   "metadata": {},
   "source": [
    "#### Long Condor Spread with Calls"
   ]
  },
  {
   "cell_type": "code",
   "execution_count": null,
   "metadata": {},
   "outputs": [],
   "source": [
    "ListStrategi=[call.iloc[int(len(call)*0.3),].Instrument,\n",
    "              call.iloc[int(len(call)*0.4),].Instrument,\n",
    "              call.iloc[int(len(call)*0.6),].Instrument,\n",
    "              call.iloc[int(len(call)*0.7),].Instrument]\n",
    "\n",
    "data=optionsInfo[optionsInfo.Instrument.isin(ListStrategi).tolist()]\n",
    "pd.options.mode.chained_assignment = None\n",
    "\n",
    "data['Amount']=[1000,\n",
    "                -1000,\n",
    "                -1000,\n",
    "               1000]\n",
    "data"
   ]
  },
  {
   "cell_type": "code",
   "execution_count": null,
   "metadata": {},
   "outputs": [],
   "source": [
    "fign,p=Func.all(spot,data)\n",
    "fign"
   ]
  },
  {
   "cell_type": "markdown",
   "metadata": {},
   "source": [
    "<a id='IronCondor'>"
   ]
  },
  {
   "cell_type": "markdown",
   "metadata": {},
   "source": [
    "#### Iron Condor"
   ]
  },
  {
   "cell_type": "code",
   "execution_count": 12,
   "metadata": {},
   "outputs": [
    {
     "data": {
      "text/html": [
       "<div>\n",
       "<style scoped>\n",
       "    .dataframe tbody tr th:only-of-type {\n",
       "        vertical-align: middle;\n",
       "    }\n",
       "\n",
       "    .dataframe tbody tr th {\n",
       "        vertical-align: top;\n",
       "    }\n",
       "\n",
       "    .dataframe thead th {\n",
       "        text-align: right;\n",
       "    }\n",
       "</style>\n",
       "<table border=\"1\" class=\"dataframe\">\n",
       "  <thead>\n",
       "    <tr style=\"text-align: right;\">\n",
       "      <th></th>\n",
       "      <th>Instrument</th>\n",
       "      <th>TRADE_DATE</th>\n",
       "      <th>TRDPRC_1</th>\n",
       "      <th>PUTCALLIND</th>\n",
       "      <th>EXPIR_DATE</th>\n",
       "      <th>STRIKE_PRC</th>\n",
       "      <th>VOL_X_PRC1</th>\n",
       "      <th>STOCK_RIC</th>\n",
       "      <th>Delta</th>\n",
       "      <th>Amount</th>\n",
       "    </tr>\n",
       "  </thead>\n",
       "  <tbody>\n",
       "    <tr>\n",
       "      <th>279</th>\n",
       "      <td>PETR4S18.SA</td>\n",
       "      <td>2020-05-21</td>\n",
       "      <td>1.07</td>\n",
       "      <td>PUT</td>\n",
       "      <td>2020-07-20</td>\n",
       "      <td>17.99</td>\n",
       "      <td>170080.0</td>\n",
       "      <td>PETR4.SA</td>\n",
       "      <td>-0.061555</td>\n",
       "      <td>1000</td>\n",
       "    </tr>\n",
       "    <tr>\n",
       "      <th>285</th>\n",
       "      <td>PETR4S187.SA</td>\n",
       "      <td>2020-05-21</td>\n",
       "      <td>1.36</td>\n",
       "      <td>PUT</td>\n",
       "      <td>2020-07-20</td>\n",
       "      <td>18.74</td>\n",
       "      <td>84673.0</td>\n",
       "      <td>PETR4.SA</td>\n",
       "      <td>-0.022431</td>\n",
       "      <td>-1000</td>\n",
       "    </tr>\n",
       "    <tr>\n",
       "      <th>293</th>\n",
       "      <td>PETR4G193.SA</td>\n",
       "      <td>2020-05-21</td>\n",
       "      <td>1.38</td>\n",
       "      <td>CALL</td>\n",
       "      <td>2020-07-20</td>\n",
       "      <td>19.74</td>\n",
       "      <td>46930.0</td>\n",
       "      <td>PETR4.SA</td>\n",
       "      <td>0.029734</td>\n",
       "      <td>-1000</td>\n",
       "    </tr>\n",
       "    <tr>\n",
       "      <th>300</th>\n",
       "      <td>PETR4G210.SA</td>\n",
       "      <td>2020-05-21</td>\n",
       "      <td>1.04</td>\n",
       "      <td>CALL</td>\n",
       "      <td>2020-07-20</td>\n",
       "      <td>20.49</td>\n",
       "      <td>295870.0</td>\n",
       "      <td>PETR4.SA</td>\n",
       "      <td>0.068858</td>\n",
       "      <td>1000</td>\n",
       "    </tr>\n",
       "  </tbody>\n",
       "</table>\n",
       "</div>"
      ],
      "text/plain": [
       "       Instrument  TRADE_DATE  TRDPRC_1 PUTCALLIND  EXPIR_DATE  STRIKE_PRC  \\\n",
       "279   PETR4S18.SA  2020-05-21      1.07       PUT   2020-07-20       17.99   \n",
       "285  PETR4S187.SA  2020-05-21      1.36       PUT   2020-07-20       18.74   \n",
       "293  PETR4G193.SA  2020-05-21      1.38       CALL  2020-07-20       19.74   \n",
       "300  PETR4G210.SA  2020-05-21      1.04       CALL  2020-07-20       20.49   \n",
       "\n",
       "     VOL_X_PRC1 STOCK_RIC     Delta  Amount  \n",
       "279    170080.0  PETR4.SA -0.061555    1000  \n",
       "285     84673.0  PETR4.SA -0.022431   -1000  \n",
       "293     46930.0  PETR4.SA  0.029734   -1000  \n",
       "300    295870.0  PETR4.SA  0.068858    1000  "
      ]
     },
     "execution_count": 12,
     "metadata": {},
     "output_type": "execute_result"
    }
   ],
   "source": [
    "ListStrategi=[put.iloc[int(len(put)*0.3),].Instrument,\n",
    "              put.iloc[int(len(put)*0.4),].Instrument,\n",
    "              call.iloc[int(len(call)*0.6),].Instrument,\n",
    "              call.iloc[int(len(call)*0.7),].Instrument]\n",
    "\n",
    "data=optionsInfo[optionsInfo.Instrument.isin(ListStrategi).tolist()]\n",
    "pd.options.mode.chained_assignment = None\n",
    "\n",
    "data['Amount']=[1000,\n",
    "                -1000,\n",
    "                -1000,\n",
    "               1000]\n",
    "data"
   ]
  },
  {
   "cell_type": "code",
   "execution_count": 13,
   "metadata": {},
   "outputs": [
    {
     "data": {
      "application/vnd.jupyter.widget-view+json": {
       "model_id": "619ef860c208411388201a1623869fc3",
       "version_major": 2,
       "version_minor": 0
      },
      "text/plain": [
       "FigureWidget({\n",
       "    'data': [{'line': {'color': 'black', 'dash': 'dash', 'width': 2},\n",
       "              'name': '0 …"
      ]
     },
     "metadata": {},
     "output_type": "display_data"
    }
   ],
   "source": [
    "fign,p=Func.all(spot,data)\n",
    "fign"
   ]
  },
  {
   "cell_type": "markdown",
   "metadata": {},
   "source": [
    "<a id='ShortStraddle'>"
   ]
  },
  {
   "cell_type": "markdown",
   "metadata": {},
   "source": [
    "#### Short Straddle"
   ]
  },
  {
   "cell_type": "code",
   "execution_count": null,
   "metadata": {},
   "outputs": [],
   "source": [
    "ListStrategi=[put.iloc[int(len(put)*0.5),].Instrument,\n",
    "              call.iloc[int(len(call)*0.5),].Instrument]\n",
    "\n",
    "data=optionsInfo[optionsInfo.Instrument.isin(ListStrategi).tolist()]\n",
    "pd.options.mode.chained_assignment = None\n",
    "\n",
    "data['Amount']=[-1000,\n",
    "                -1000]\n",
    "data"
   ]
  },
  {
   "cell_type": "code",
   "execution_count": null,
   "metadata": {},
   "outputs": [],
   "source": [
    "fign,p=Func.all(spot,data)\n",
    "fign"
   ]
  },
  {
   "cell_type": "markdown",
   "metadata": {},
   "source": [
    "<a id='ShortStrangle'>"
   ]
  },
  {
   "cell_type": "markdown",
   "metadata": {},
   "source": [
    "#### Short Strangle"
   ]
  },
  {
   "cell_type": "code",
   "execution_count": null,
   "metadata": {},
   "outputs": [],
   "source": [
    "ListStrategi=[put.iloc[int(len(put)*0.3),].Instrument,\n",
    "              call.iloc[int(len(call)*0.7),].Instrument]\n",
    "\n",
    "data=optionsInfo[optionsInfo.Instrument.isin(ListStrategi).tolist()]\n",
    "pd.options.mode.chained_assignment = None\n",
    "\n",
    "data['Amount']=[-1000,\n",
    "                -1000]"
   ]
  },
  {
   "cell_type": "code",
   "execution_count": null,
   "metadata": {},
   "outputs": [],
   "source": [
    "fign,p=Func.all(spot,data)\n",
    "fign"
   ]
  },
  {
   "cell_type": "markdown",
   "metadata": {},
   "source": [
    "<a id='VolatilityLongStrategy(BuyVolatility)'>"
   ]
  },
  {
   "cell_type": "markdown",
   "metadata": {},
   "source": [
    "### Volatility Long Strategy (Buy Volatility)"
   ]
  },
  {
   "cell_type": "markdown",
   "metadata": {},
   "source": [
    "<a id='LongStraddle'>"
   ]
  },
  {
   "cell_type": "markdown",
   "metadata": {},
   "source": [
    "#### Long Straddle"
   ]
  },
  {
   "cell_type": "code",
   "execution_count": null,
   "metadata": {},
   "outputs": [],
   "source": [
    "ListStrategi=[call.iloc[int(len(call)*0.5),].Instrument,\n",
    "              put.iloc[int(len(put)*0.5),].Instrument]\n",
    "\n",
    "data=optionsInfo[optionsInfo.Instrument.isin(ListStrategi).tolist()]\n",
    "pd.options.mode.chained_assignment = None\n",
    "\n",
    "data['Amount']=[1000,\n",
    "                1000]"
   ]
  },
  {
   "cell_type": "code",
   "execution_count": null,
   "metadata": {},
   "outputs": [],
   "source": [
    "fign,p=Func.all(spot,data)\n",
    "fign"
   ]
  },
  {
   "cell_type": "code",
   "execution_count": null,
   "metadata": {},
   "outputs": [],
   "source": [
    "p"
   ]
  },
  {
   "cell_type": "markdown",
   "metadata": {},
   "source": [
    "<a id='LongStrangle'>"
   ]
  },
  {
   "cell_type": "markdown",
   "metadata": {},
   "source": [
    "#### Long Strangle"
   ]
  },
  {
   "cell_type": "code",
   "execution_count": null,
   "metadata": {},
   "outputs": [],
   "source": [
    "ListStrategi=[call.iloc[int(len(call)*0.4),].Instrument,\n",
    "              put.iloc[int(len(put)*0.6),].Instrument]\n",
    "\n",
    "data=optionsInfo[optionsInfo.Instrument.isin(ListStrategi).tolist()]\n",
    "pd.options.mode.chained_assignment = None\n",
    "\n",
    "data['Amount']=[1000,\n",
    "                1000]"
   ]
  },
  {
   "cell_type": "code",
   "execution_count": null,
   "metadata": {},
   "outputs": [],
   "source": [
    "fign,p=Func.all(spot,data)\n",
    "fign"
   ]
  },
  {
   "cell_type": "markdown",
   "metadata": {},
   "source": [
    "## Calculation process"
   ]
  },
  {
   "cell_type": "code",
   "execution_count": null,
   "metadata": {},
   "outputs": [],
   "source": [
    "data"
   ]
  },
  {
   "cell_type": "code",
   "execution_count": null,
   "metadata": {},
   "outputs": [],
   "source": [
    "data['Amount']=data['Amount'].astype(float)\n",
    "data['TRDPRC_1']=data['TRDPRC_1'].astype(float)\n",
    "data['STRIKE_PRC']=data['STRIKE_PRC'].astype(float)\n",
    "data[\"TRADE_DATE\"]=pd.to_datetime(data[\"TRADE_DATE\"])\n",
    "data[\"EXPIR_DATE\"]=pd.to_datetime(data[\"EXPIR_DATE\"])"
   ]
  },
  {
   "cell_type": "markdown",
   "metadata": {},
   "source": [
    "#### Volatility and Greek Calculations:"
   ]
  },
  {
   "cell_type": "code",
   "execution_count": null,
   "metadata": {},
   "outputs": [],
   "source": [
    "ssp=spot.TRDPRC_1.values[0]\n",
    "days=(data.apply(lambda row: businessDuration(startdate=row['TRADE_DATE'],enddate=row['EXPIR_DATE'],unit='day'), axis=1)).values\n",
    "\n",
    "ImpyVola=[round(Func.ImpliedVola(spot.TRDPRC_1.values[0].astype(float),\n",
    "            data[\"STRIKE_PRC\"].values[j].astype(float),\n",
    "            spot.TRDPRC_1.values[1]/100,\n",
    "            .70,\n",
    "            data[\"TRDPRC_1\"].values[j].astype(float),\n",
    "            days[j],\n",
    "            # (((data[\"EXPIR_DATE\"].values[j])-(data[\"TRADE_DATE\"].values[j])).astype('timedelta64[D]').astype(int)),\n",
    "            data[\"PUTCALLIND\"].values[j],a=-12.0, b=12.0, xtol=1e-8)*100,2) for j in range(len(data))]\n"
   ]
  },
  {
   "cell_type": "code",
   "execution_count": null,
   "metadata": {},
   "outputs": [],
   "source": [
    "GREEKS=Func.OpitionsPrice(spot.TRDPRC_1.values[0].astype(float),\n",
    "                            data[\"STRIKE_PRC\"].values.astype(float),\n",
    "                            spot.TRDPRC_1.values[1]/100,\n",
    "                            np.array(ImpyVola)/100,\n",
    "                            days)"
   ]
  },
  {
   "cell_type": "code",
   "execution_count": null,
   "metadata": {},
   "outputs": [],
   "source": [
    "GREEKS"
   ]
  },
  {
   "cell_type": "code",
   "execution_count": null,
   "metadata": {},
   "outputs": [],
   "source": [
    "data[['Valor','Delta','Gamma','Vega','Theta','Rho','Etas']]=pd.DataFrame([[0 for i in range(7)]], columns=['Valor','Delta','Gamma','Vega','Theta','Rho','Etas'],index=data.index)\n",
    "callGreek=GREEKS[list(GREEKS.columns[GREEKS.columns.str.contains('C', regex=True)])][data.PUTCALLIND.str.contains('C', regex=True).values]\n",
    "putGreek=GREEKS[list(GREEKS.columns[GREEKS.columns.str.contains('P', regex=True)])][data.PUTCALLIND.str.contains('P', regex=True).values]\n",
    "\n",
    "callGreek.columns=['Valor','Delta','Gamma','Vega','Theta','Rho','Etas']\n",
    "putGreek.columns=['Valor','Delta','Gamma','Vega','Theta','Rho','Etas']\n",
    "\n",
    "data.loc[list(data.PUTCALLIND.str.contains('C', regex=True).values),['Valor','Delta','Gamma','Vega','Theta','Rho','Etas']]=callGreek.values\n",
    "data.loc[list(data.PUTCALLIND.str.contains('P', regex=True).values),['Valor','Delta','Gamma','Vega','Theta','Rho','Etas']]=putGreek.values"
   ]
  },
  {
   "cell_type": "code",
   "execution_count": null,
   "metadata": {},
   "outputs": [],
   "source": [
    "data[['Instrument','TRDPRC_1','STRIKE_PRC','VOL_X_PRC1','Amount','Valor','Delta','Gamma','Vega','Theta','Rho','Etas']]"
   ]
  },
  {
   "cell_type": "markdown",
   "metadata": {},
   "source": [
    "## Montecarlo Simulation"
   ]
  },
  {
   "cell_type": "code",
   "execution_count": null,
   "metadata": {},
   "outputs": [],
   "source": [
    "vola, err = ek.get_data([spot[spot[\"Instrument\"]!=\"BRSELICD=CBBR\"].Instrument.values[0]],\n",
    "                            ['TR.Volatility5D','TR.Volatility10D',\"TR.Volatility20D\",\n",
    "                            \"TR.Volatility30D\",\"TR.Volatility60D\",\"TR.Volatility90D\"])\n",
    "vola.columns=['Instrument',5,10,20,30,60,90]\n",
    "vola[[5,10,20,30,60,90]]=vola[[5,10,20,30,60,90]]/100\n",
    "days=list(np.unique(days))\n",
    "dists=[]\n",
    "vollist=[]\n",
    "for d in days:\n",
    "    y_interp = scipy.interpolate.interp1d(vola.columns[1:].astype(float),vola.T[0].values[1:].astype(float))\n",
    "    volaV=y_interp(d)\n",
    "    Distrib=np.random.lognormal(0,(volaV/(252**0.5)*(d**0.5)), size=5000)\n",
    "    Distrib=Distrib*ssp\n",
    "\n",
    "    vollist.append(volaV)\n",
    "    dists.append(Distrib)"
   ]
  },
  {
   "cell_type": "code",
   "execution_count": null,
   "metadata": {},
   "outputs": [],
   "source": [
    "for i in range(len(dists)):\n",
    "    dists[i]=dists[i][(dists[i]>ssp*0.8)&(dists[i]<ssp*1.2)]"
   ]
  },
  {
   "cell_type": "markdown",
   "metadata": {},
   "source": [
    "## PnL Calculations"
   ]
  },
  {
   "cell_type": "code",
   "execution_count": null,
   "metadata": {},
   "outputs": [],
   "source": [
    "Price=np.array(dists).reshape(np.array(dists).shape[0]*np.array(dists).shape[1])\n",
    "Price.sort()"
   ]
  },
  {
   "cell_type": "code",
   "execution_count": null,
   "metadata": {},
   "outputs": [],
   "source": [
    "(Price.min()+Price.max())/2"
   ]
  },
  {
   "cell_type": "code",
   "execution_count": null,
   "metadata": {},
   "outputs": [],
   "source": [
    "(dists)"
   ]
  },
  {
   "cell_type": "code",
   "execution_count": null,
   "metadata": {},
   "outputs": [],
   "source": [
    "net=[]\n",
    "for k in range(len(data)):\n",
    "    if data['Amount'].iloc[k]>=0:\n",
    "        if \"C\" in data['PUTCALLIND'].iloc[k]:\n",
    "            Rt= -data['STRIKE_PRC'].iloc[k]-data['TRDPRC_1'].iloc[k] +Price\n",
    "            Rt[Rt<=-data['TRDPRC_1'].iloc[k]]=-data['TRDPRC_1'].iloc[k]\n",
    "            Rt=Rt*abs(data['Amount'].iloc[k])\n",
    "            net.append(list(Rt))\n",
    "        else:\n",
    "            Rt= data['STRIKE_PRC'].iloc[k] -data['TRDPRC_1'].iloc[k] -Price\n",
    "            Rt[Rt<=-data['TRDPRC_1'].iloc[k]]=-data['TRDPRC_1'].iloc[k]\n",
    "            Rt=Rt*abs(data['Amount'].iloc[k])\n",
    "            net.append(list(Rt))\n",
    "\n",
    "    else:\n",
    "        if \"C\" in data['PUTCALLIND'].iloc[k]:\n",
    "            Rt= data['STRIKE_PRC'].iloc[k] +data['TRDPRC_1'].iloc[k] -Price\n",
    "            Rt[Rt>=data['TRDPRC_1'].iloc[k]]=data['TRDPRC_1'].iloc[k]\n",
    "            Rt=Rt*abs(data['Amount'].iloc[k])\n",
    "            net.append(list(Rt))\n",
    "        else:\n",
    "            Rt= -data['STRIKE_PRC'].iloc[k] +data['TRDPRC_1'].iloc[k] +Price\n",
    "            Rt[Rt>=data['TRDPRC_1'].iloc[k]]=data['TRDPRC_1'].iloc[k]\n",
    "            Rt=Rt*abs(data['Amount'].iloc[k])\n",
    "            net.append(list(Rt))\n",
    "\n",
    "tempTT=[]\n",
    "for j in range(len(set(days))):\n",
    "    tempT=[]\n",
    "    for s in range(len(data[\"STRIKE_PRC\"])):\n",
    "        temp=Func.OpitionsPrice(Price,\n",
    "                            data[\"STRIKE_PRC\"].values.astype(float)[s],\n",
    "                            spot.TRDPRC_1.values[1]/100,\n",
    "                            np.array(ImpyVola[j])/100,\n",
    "                            days[j])\n",
    "\n",
    "        if \"C\" in data[\"PUTCALLIND\"].values[s]:\n",
    "            temp=list((temp.ValorC.values-data['TRDPRC_1'].values[s])*data['Amount'].values[s])\n",
    "        else:\n",
    "            temp=list((temp.ValorP.values-data['TRDPRC_1'].values[s])*data['Amount'].values[s])\n",
    "\n",
    "        tempT.append(temp)\n",
    "    tempTT.append(tempT)"
   ]
  },
  {
   "cell_type": "code",
   "execution_count": null,
   "metadata": {},
   "outputs": [],
   "source": [
    "tempTT"
   ]
  },
  {
   "cell_type": "markdown",
   "metadata": {},
   "source": [
    "## Ploting PnL"
   ]
  },
  {
   "cell_type": "code",
   "execution_count": null,
   "metadata": {},
   "outputs": [],
   "source": [
    "def StrPL(Distrib,pay,tempTT,days,dists,data):\n",
    "    \n",
    "    fig = go.FigureWidget(make_subplots(shared_xaxes=True,\n",
    "                                        specs=[[{\"secondary_y\": True}]],print_grid=False))\n",
    "\n",
    "#     fig = go.Figure(make_subplots(shared_xaxes=True,\n",
    "#                                         specs=[[{\"secondary_y\": True}]],print_grid=False))\n",
    "\n",
    "    trace3 = go.Scatter(name=\"0 line\",x=pay.index,\n",
    "                           y=np.array([0 for i in Distrib]),\n",
    "                           xaxis = 'x1',yaxis = 'y2',\n",
    "                           line = dict(color='black', width=2, dash='dash'))\n",
    "    fig.add_trace(trace3, secondary_y=False)\n",
    "\n",
    "    trace1 = go.Scatter(name=\"Payoff\",x=pay.index,\n",
    "                           y=pay.values,xaxis = 'x1',yaxis = 'y2',\n",
    "                           mode='lines',fill='tozeroy')\n",
    "\n",
    "    fig.add_trace(trace1, secondary_y=False)\n",
    "\n",
    "    for i in range(len(tempTT)):\n",
    "        trace5 = go.Scatter(name=\"Price - \"+str(days[i])+' Days',x=pay.index,\n",
    "                               y=pd.DataFrame(tempTT[i]).sum().values,\n",
    "                               xaxis = 'x1',yaxis = 'y2',\n",
    "                               mode='lines')\n",
    "        fig.add_trace(trace5, secondary_y=False)\n",
    "\n",
    "\n",
    "    for lin,i in zip(pays.values,pays.index):\n",
    "        trace4 = go.Scatter(name=data.Instrument.values[i],x=pay.index,\n",
    "                               y=lin,xaxis = 'x1',yaxis = 'y2',\n",
    "                               line = dict(width=2, dash='dash'))\n",
    "        fig.add_trace(trace4, secondary_y=False)\n",
    "\n",
    "\n",
    "    for i,j in zip(days,dists):\n",
    "        trace2 = ff.create_distplot([j],[str(i)+\" Days - Probabilidade\"], \n",
    "                                    bin_size=.5,curve_type='normal',show_hist=False,show_rug=False)\n",
    "        fig.add_trace(trace2['data'][0], secondary_y=True)\n",
    "    \n",
    "    fig.layout.update({'height': 800,\n",
    "                       'width': 1000})\n",
    "    return(fig)\n",
    "\n",
    "pay=pd.DataFrame(net)\n",
    "pay.columns=Price\n",
    "pays=pay\n",
    "pay=pay.sum()\n",
    "fig=StrPL(Distrib,pay,tempTT,days,dists,data)\n",
    "prob=round(sum(pay.values>0)/len(Distrib)*100,2)\n",
    "fig\n",
    "# prob=round(sum(pay.values>0)/len(Distrib)*100,2)\n",
    "# plot(fig, auto_open=True)"
   ]
  },
  {
   "cell_type": "code",
   "execution_count": null,
   "metadata": {},
   "outputs": [],
   "source": [
    "\n",
    "fig = go.FigureWidget(make_subplots(shared_xaxes=True,\n",
    "                                    specs=[[{\"secondary_y\": True}]],print_grid=False))\n",
    "\n",
    "#     fig = go.Figure(make_subplots(shared_xaxes=True,\n",
    "#                                         specs=[[{\"secondary_y\": True}]],print_grid=False))\n",
    "\n",
    "trace3 = go.Scatter(name=\"0 line\",x=pay.index,\n",
    "                       y=np.array([0 for i in Distrib]),\n",
    "                       xaxis = 'x1',yaxis = 'y2',\n",
    "                       line = dict(color='black', width=2, dash='dash'))\n",
    "fig.add_trace(trace3, secondary_y=False)\n",
    "\n",
    "trace1 = go.Scatter(name=\"Payoff\",x=pay.index,\n",
    "                       y=pay.values,xaxis = 'x1',yaxis = 'y2',\n",
    "                       mode='lines',fill='tozeroy')\n",
    "\n",
    "fig.add_trace(trace1, secondary_y=False)\n",
    "\n",
    "for i in range(len(tempTT)):\n",
    "    trace5 = go.Scatter(name=\"Price - \"+str(days[i])+' Days',x=pay.index,\n",
    "                           y=pd.DataFrame(tempTT[i]).sum().values,\n",
    "                           xaxis = 'x1',yaxis = 'y2',\n",
    "                           mode='lines')\n",
    "    fig.add_trace(trace5, secondary_y=False)\n",
    "\n",
    "\n",
    "for lin,i in zip(pays.values,pays.index):\n",
    "    trace4 = go.Scatter(name=data.Instrument.values[i],x=pay.index,\n",
    "                           y=lin,xaxis = 'x1',yaxis = 'y2',\n",
    "                           line = dict(width=2, dash='dash'))\n",
    "    fig.add_trace(trace4, secondary_y=False)\n",
    "\n",
    "\n",
    "for i,j in zip(days,dists):\n",
    "    trace2 = ff.create_distplot([j],[str(i)+\" Days - Probabilidade\"], \n",
    "                                bin_size=.5,curve_type='normal',show_hist=False,show_rug=False)\n",
    "    fig.add_trace(trace2['data'][0], secondary_y=True)\n",
    "\n",
    "fig.layout.update({'height': 800,\n",
    "                   'width': 1000})"
   ]
  },
  {
   "cell_type": "code",
   "execution_count": null,
   "metadata": {},
   "outputs": [],
   "source": [
    "min(j.tolist())"
   ]
  },
  {
   "cell_type": "code",
   "execution_count": null,
   "metadata": {},
   "outputs": [],
   "source": [
    "\n"
   ]
  },
  {
   "cell_type": "code",
   "execution_count": null,
   "metadata": {},
   "outputs": [],
   "source": [
    "trace2 = ff.create_distplot([dists[0]],[str(days[0])+\" Days - Probabilidade\"], \n",
    "                            bin_size=.5,curve_type='normal',show_hist=False,show_rug=False)"
   ]
  },
  {
   "cell_type": "code",
   "execution_count": null,
   "metadata": {},
   "outputs": [],
   "source": [
    "dists[0]"
   ]
  },
  {
   "cell_type": "code",
   "execution_count": null,
   "metadata": {},
   "outputs": [],
   "source": [
    "dists[0]"
   ]
  },
  {
   "cell_type": "code",
   "execution_count": null,
   "metadata": {},
   "outputs": [],
   "source": [
    "type(dists[0])"
   ]
  },
  {
   "cell_type": "code",
   "execution_count": null,
   "metadata": {},
   "outputs": [],
   "source": []
  }
 ],
 "metadata": {
  "kernelspec": {
   "display_name": "Python 3",
   "language": "python",
   "name": "python3"
  },
  "language_info": {
   "codemirror_mode": {
    "name": "ipython",
    "version": 3
   },
   "file_extension": ".py",
   "mimetype": "text/x-python",
   "name": "python",
   "nbconvert_exporter": "python",
   "pygments_lexer": "ipython3",
   "version": "3.7.3"
  }
 },
 "nbformat": 4,
 "nbformat_minor": 2
}
